{
 "metadata": {
  "language_info": {
   "codemirror_mode": {
    "name": "ipython",
    "version": 3
   },
   "file_extension": ".py",
   "mimetype": "text/x-python",
   "name": "python",
   "nbconvert_exporter": "python",
   "pygments_lexer": "ipython3",
   "version": "3.8.0"
  },
  "orig_nbformat": 4,
  "kernelspec": {
   "name": "python3",
   "display_name": "Python 3.8.0 64-bit ('food_dashboard_scraping': conda)"
  },
  "interpreter": {
   "hash": "992e6a4be6c24496a05498d2743d9e7a3b2c4f31ff1d6a1cee47b6997e02877c"
  }
 },
 "nbformat": 4,
 "nbformat_minor": 2,
 "cells": [
  {
   "cell_type": "code",
   "execution_count": 2,
   "metadata": {},
   "outputs": [],
   "source": [
    "import pandas as pd"
   ]
  },
  {
   "cell_type": "code",
   "execution_count": 3,
   "metadata": {},
   "outputs": [],
   "source": [
    "df = pd.read_csv(\"../raw_dataset/packaged_foods.csv\")"
   ]
  },
  {
   "cell_type": "code",
   "execution_count": 4,
   "metadata": {},
   "outputs": [
    {
     "output_type": "execute_result",
     "data": {
      "text/plain": [
       "         date                                          food name  \\\n",
       "0  2021-07-06                        gardenia enrich white bread   \n",
       "1  2021-07-06  gardenia enrich white bread - wholem (super so...   \n",
       "2  2021-07-06            calbe big bag potato chip - hot & spici   \n",
       "3  2021-07-06            maggi big 2-minut instant noodl - curri   \n",
       "4  2021-07-06                           hup seng cracker - cream   \n",
       "\n",
       "                                         Ingredients  \\\n",
       "0  • High in vitamin B1, B2, B3 ,• High in calciu...   \n",
       "1  Baked with 100% wholemeal flour specially mill...   \n",
       "2  • Display or store in a cool and dry place, aw...   \n",
       "3  1. Empty noodles and soup mix into 450ml of bo...   \n",
       "4  Every piece of the cream crackers is delicious...   \n",
       "\n",
       "                                           Nutrition  \n",
       "0  Attributes,Per Serving (57g),Energy,150kcal,Tr...  \n",
       "1  Attributes,Per Serving (2 Slices),Energy,117kc...  \n",
       "2  Attributes,Per Serving (15g),Calories,81kcal,C...  \n",
       "3  Attributes,Per Serving (101g),Energy,447kcal,P...  \n",
       "4  Attributes,Per Serving (31g),Calories,150,Calo...  "
      ],
      "text/html": "<div>\n<style scoped>\n    .dataframe tbody tr th:only-of-type {\n        vertical-align: middle;\n    }\n\n    .dataframe tbody tr th {\n        vertical-align: top;\n    }\n\n    .dataframe thead th {\n        text-align: right;\n    }\n</style>\n<table border=\"1\" class=\"dataframe\">\n  <thead>\n    <tr style=\"text-align: right;\">\n      <th></th>\n      <th>date</th>\n      <th>food name</th>\n      <th>Ingredients</th>\n      <th>Nutrition</th>\n    </tr>\n  </thead>\n  <tbody>\n    <tr>\n      <th>0</th>\n      <td>2021-07-06</td>\n      <td>gardenia enrich white bread</td>\n      <td>• High in vitamin B1, B2, B3 ,• High in calciu...</td>\n      <td>Attributes,Per Serving (57g),Energy,150kcal,Tr...</td>\n    </tr>\n    <tr>\n      <th>1</th>\n      <td>2021-07-06</td>\n      <td>gardenia enrich white bread - wholem (super so...</td>\n      <td>Baked with 100% wholemeal flour specially mill...</td>\n      <td>Attributes,Per Serving (2 Slices),Energy,117kc...</td>\n    </tr>\n    <tr>\n      <th>2</th>\n      <td>2021-07-06</td>\n      <td>calbe big bag potato chip - hot &amp; spici</td>\n      <td>• Display or store in a cool and dry place, aw...</td>\n      <td>Attributes,Per Serving (15g),Calories,81kcal,C...</td>\n    </tr>\n    <tr>\n      <th>3</th>\n      <td>2021-07-06</td>\n      <td>maggi big 2-minut instant noodl - curri</td>\n      <td>1. Empty noodles and soup mix into 450ml of bo...</td>\n      <td>Attributes,Per Serving (101g),Energy,447kcal,P...</td>\n    </tr>\n    <tr>\n      <th>4</th>\n      <td>2021-07-06</td>\n      <td>hup seng cracker - cream</td>\n      <td>Every piece of the cream crackers is delicious...</td>\n      <td>Attributes,Per Serving (31g),Calories,150,Calo...</td>\n    </tr>\n  </tbody>\n</table>\n</div>"
     },
     "metadata": {},
     "execution_count": 4
    }
   ],
   "source": [
    "df.head()"
   ]
  },
  {
   "cell_type": "code",
   "execution_count": 5,
   "metadata": {},
   "outputs": [
    {
     "output_type": "execute_result",
     "data": {
      "text/plain": [
       "            date                                          food name  \\\n",
       "0     2021-07-06                        gardenia enrich white bread   \n",
       "1     2021-07-06  gardenia enrich white bread - wholem (super so...   \n",
       "2     2021-07-06            calbe big bag potato chip - hot & spici   \n",
       "3     2021-07-06            maggi big 2-minut instant noodl - curri   \n",
       "4     2021-07-06                           hup seng cracker - cream   \n",
       "...          ...                                                ...   \n",
       "7279  2021-07-06                  sunshin wholem bread - ultra fine   \n",
       "7280  2021-07-06                       pringl potato crisp - origin   \n",
       "7281  2021-07-06             ibumi Mi goreng instant noodl - origin   \n",
       "7282  2021-07-06               oreo cooki sandwich biscuit - origin   \n",
       "7283  2021-07-06         nissin instant cup noodl - tom yam seafood   \n",
       "\n",
       "                                            Ingredients  \\\n",
       "0     • High in vitamin B1, B2, B3 ,• High in calciu...   \n",
       "1     Baked with 100% wholemeal flour specially mill...   \n",
       "2     • Display or store in a cool and dry place, aw...   \n",
       "3     1. Empty noodles and soup mix into 450ml of bo...   \n",
       "4     Every piece of the cream crackers is delicious...   \n",
       "...                                                 ...   \n",
       "7279  • High in Dietary Fibre ,•High in Calcium and ...   \n",
       "7280    • Bursting with flavour,• No artificial colours   \n",
       "7281  1. Cook noodles in briskly boiling water and s...   \n",
       "7282  • Rich, smooth vanilla cream sandwiched betwee...   \n",
       "7283  • Contains real seafood and tom yam paste,• Re...   \n",
       "\n",
       "                                              Nutrition  \n",
       "0     Attributes,Per Serving (57g),Energy,150kcal,Tr...  \n",
       "1     Attributes,Per Serving (2 Slices),Energy,117kc...  \n",
       "2     Attributes,Per Serving (15g),Calories,81kcal,C...  \n",
       "3     Attributes,Per Serving (101g),Energy,447kcal,P...  \n",
       "4     Attributes,Per Serving (31g),Calories,150,Calo...  \n",
       "...                                                 ...  \n",
       "7279                                                NaN  \n",
       "7280  Attributes,Per Serving (25g),Energy,137kcal,Ca...  \n",
       "7281  Attributes,Per Serving (80g),Energy,395kcal,Ca...  \n",
       "7282  Attributes,Per Serving (29g),Energy,141kcal,Di...  \n",
       "7283  Attributes,Per Serving (75g),Energy,300kcal,Pr...  \n",
       "\n",
       "[7284 rows x 4 columns]"
      ],
      "text/html": "<div>\n<style scoped>\n    .dataframe tbody tr th:only-of-type {\n        vertical-align: middle;\n    }\n\n    .dataframe tbody tr th {\n        vertical-align: top;\n    }\n\n    .dataframe thead th {\n        text-align: right;\n    }\n</style>\n<table border=\"1\" class=\"dataframe\">\n  <thead>\n    <tr style=\"text-align: right;\">\n      <th></th>\n      <th>date</th>\n      <th>food name</th>\n      <th>Ingredients</th>\n      <th>Nutrition</th>\n    </tr>\n  </thead>\n  <tbody>\n    <tr>\n      <th>0</th>\n      <td>2021-07-06</td>\n      <td>gardenia enrich white bread</td>\n      <td>• High in vitamin B1, B2, B3 ,• High in calciu...</td>\n      <td>Attributes,Per Serving (57g),Energy,150kcal,Tr...</td>\n    </tr>\n    <tr>\n      <th>1</th>\n      <td>2021-07-06</td>\n      <td>gardenia enrich white bread - wholem (super so...</td>\n      <td>Baked with 100% wholemeal flour specially mill...</td>\n      <td>Attributes,Per Serving (2 Slices),Energy,117kc...</td>\n    </tr>\n    <tr>\n      <th>2</th>\n      <td>2021-07-06</td>\n      <td>calbe big bag potato chip - hot &amp; spici</td>\n      <td>• Display or store in a cool and dry place, aw...</td>\n      <td>Attributes,Per Serving (15g),Calories,81kcal,C...</td>\n    </tr>\n    <tr>\n      <th>3</th>\n      <td>2021-07-06</td>\n      <td>maggi big 2-minut instant noodl - curri</td>\n      <td>1. Empty noodles and soup mix into 450ml of bo...</td>\n      <td>Attributes,Per Serving (101g),Energy,447kcal,P...</td>\n    </tr>\n    <tr>\n      <th>4</th>\n      <td>2021-07-06</td>\n      <td>hup seng cracker - cream</td>\n      <td>Every piece of the cream crackers is delicious...</td>\n      <td>Attributes,Per Serving (31g),Calories,150,Calo...</td>\n    </tr>\n    <tr>\n      <th>...</th>\n      <td>...</td>\n      <td>...</td>\n      <td>...</td>\n      <td>...</td>\n    </tr>\n    <tr>\n      <th>7279</th>\n      <td>2021-07-06</td>\n      <td>sunshin wholem bread - ultra fine</td>\n      <td>• High in Dietary Fibre ,•High in Calcium and ...</td>\n      <td>NaN</td>\n    </tr>\n    <tr>\n      <th>7280</th>\n      <td>2021-07-06</td>\n      <td>pringl potato crisp - origin</td>\n      <td>• Bursting with flavour,• No artificial colours</td>\n      <td>Attributes,Per Serving (25g),Energy,137kcal,Ca...</td>\n    </tr>\n    <tr>\n      <th>7281</th>\n      <td>2021-07-06</td>\n      <td>ibumi Mi goreng instant noodl - origin</td>\n      <td>1. Cook noodles in briskly boiling water and s...</td>\n      <td>Attributes,Per Serving (80g),Energy,395kcal,Ca...</td>\n    </tr>\n    <tr>\n      <th>7282</th>\n      <td>2021-07-06</td>\n      <td>oreo cooki sandwich biscuit - origin</td>\n      <td>• Rich, smooth vanilla cream sandwiched betwee...</td>\n      <td>Attributes,Per Serving (29g),Energy,141kcal,Di...</td>\n    </tr>\n    <tr>\n      <th>7283</th>\n      <td>2021-07-06</td>\n      <td>nissin instant cup noodl - tom yam seafood</td>\n      <td>• Contains real seafood and tom yam paste,• Re...</td>\n      <td>Attributes,Per Serving (75g),Energy,300kcal,Pr...</td>\n    </tr>\n  </tbody>\n</table>\n<p>7284 rows × 4 columns</p>\n</div>"
     },
     "metadata": {},
     "execution_count": 5
    }
   ],
   "source": [
    "df"
   ]
  },
  {
   "cell_type": "code",
   "execution_count": 6,
   "metadata": {},
   "outputs": [],
   "source": [
    "nan_value = float(\"NaN\")\n",
    "df.replace(\"\", nan_value, inplace=True)\n",
    "df.dropna(subset = [\"food name\"], inplace=True)"
   ]
  },
  {
   "cell_type": "code",
   "execution_count": null,
   "metadata": {},
   "outputs": [],
   "source": []
  },
  {
   "cell_type": "code",
   "execution_count": 7,
   "metadata": {},
   "outputs": [],
   "source": [
    "df.to_csv('cleaned_packaged_foods.csv',index=False)"
   ]
  },
  {
   "cell_type": "code",
   "execution_count": 8,
   "metadata": {},
   "outputs": [],
   "source": [
    "df['date'] = pd.to_datetime(df['date'], format='%Y-%m-%d')"
   ]
  },
  {
   "cell_type": "code",
   "execution_count": 9,
   "metadata": {},
   "outputs": [],
   "source": [
    "df['Week/Year'] = df['date'].apply(lambda x: \"%d/%d\" % (x.week, x.year))\n"
   ]
  },
  {
   "cell_type": "code",
   "execution_count": 10,
   "metadata": {},
   "outputs": [],
   "source": [
    "df = df.sort_values(by=\"date\")\n"
   ]
  },
  {
   "cell_type": "code",
   "execution_count": 11,
   "metadata": {},
   "outputs": [
    {
     "output_type": "execute_result",
     "data": {
      "text/plain": [
       "           date                                          food name  \\\n",
       "0    2021-07-06                        gardenia enrich white bread   \n",
       "4862 2021-07-06         unikorn can food - premium stew slice pork   \n",
       "4861 2021-07-06      master pasto 3-minut vegetarian mushroom soup   \n",
       "4860 2021-07-06                                    siafa ajwa date   \n",
       "4859 2021-07-06  gin thye tradit mooncak - white lotu doubl yol...   \n",
       "...         ...                                                ...   \n",
       "2421 2021-07-06       gin thye white rabbit cornflak honey cluster   \n",
       "2420 2021-07-06  oyu hot & spici fish skin, potato chip & veget...   \n",
       "2419 2021-07-06             beryl' coconut sabl with macadamia nut   \n",
       "2445 2021-07-06                              fruit2go sunflow seed   \n",
       "7283 2021-07-06         nissin instant cup noodl - tom yam seafood   \n",
       "\n",
       "                                            Ingredients  \\\n",
       "0     • High in vitamin B1, B2, B3 ,• High in calciu...   \n",
       "4862                                                NaN   \n",
       "4861                                                NaN   \n",
       "4860                                                NaN   \n",
       "4859                                                NaN   \n",
       "...                                                 ...   \n",
       "2421                                                NaN   \n",
       "2420                                                NaN   \n",
       "2419                                                NaN   \n",
       "2445                                                NaN   \n",
       "7283  • Contains real seafood and tom yam paste,• Re...   \n",
       "\n",
       "                                              Nutrition Week/Year  \n",
       "0     Attributes,Per Serving (57g),Energy,150kcal,Tr...   27/2021  \n",
       "4862  Attributes,Per Serving (),Sodium,656mg,Total D...   27/2021  \n",
       "4861                                                NaN   27/2021  \n",
       "4860                                                NaN   27/2021  \n",
       "4859                                                NaN   27/2021  \n",
       "...                                                 ...       ...  \n",
       "2421                                                NaN   27/2021  \n",
       "2420                                                NaN   27/2021  \n",
       "2419  Attributes,Per Serving (),Sugars,5.1g,Carbohyd...   27/2021  \n",
       "2445                                                NaN   27/2021  \n",
       "7283  Attributes,Per Serving (75g),Energy,300kcal,Pr...   27/2021  \n",
       "\n",
       "[7283 rows x 5 columns]"
      ],
      "text/html": "<div>\n<style scoped>\n    .dataframe tbody tr th:only-of-type {\n        vertical-align: middle;\n    }\n\n    .dataframe tbody tr th {\n        vertical-align: top;\n    }\n\n    .dataframe thead th {\n        text-align: right;\n    }\n</style>\n<table border=\"1\" class=\"dataframe\">\n  <thead>\n    <tr style=\"text-align: right;\">\n      <th></th>\n      <th>date</th>\n      <th>food name</th>\n      <th>Ingredients</th>\n      <th>Nutrition</th>\n      <th>Week/Year</th>\n    </tr>\n  </thead>\n  <tbody>\n    <tr>\n      <th>0</th>\n      <td>2021-07-06</td>\n      <td>gardenia enrich white bread</td>\n      <td>• High in vitamin B1, B2, B3 ,• High in calciu...</td>\n      <td>Attributes,Per Serving (57g),Energy,150kcal,Tr...</td>\n      <td>27/2021</td>\n    </tr>\n    <tr>\n      <th>4862</th>\n      <td>2021-07-06</td>\n      <td>unikorn can food - premium stew slice pork</td>\n      <td>NaN</td>\n      <td>Attributes,Per Serving (),Sodium,656mg,Total D...</td>\n      <td>27/2021</td>\n    </tr>\n    <tr>\n      <th>4861</th>\n      <td>2021-07-06</td>\n      <td>master pasto 3-minut vegetarian mushroom soup</td>\n      <td>NaN</td>\n      <td>NaN</td>\n      <td>27/2021</td>\n    </tr>\n    <tr>\n      <th>4860</th>\n      <td>2021-07-06</td>\n      <td>siafa ajwa date</td>\n      <td>NaN</td>\n      <td>NaN</td>\n      <td>27/2021</td>\n    </tr>\n    <tr>\n      <th>4859</th>\n      <td>2021-07-06</td>\n      <td>gin thye tradit mooncak - white lotu doubl yol...</td>\n      <td>NaN</td>\n      <td>NaN</td>\n      <td>27/2021</td>\n    </tr>\n    <tr>\n      <th>...</th>\n      <td>...</td>\n      <td>...</td>\n      <td>...</td>\n      <td>...</td>\n      <td>...</td>\n    </tr>\n    <tr>\n      <th>2421</th>\n      <td>2021-07-06</td>\n      <td>gin thye white rabbit cornflak honey cluster</td>\n      <td>NaN</td>\n      <td>NaN</td>\n      <td>27/2021</td>\n    </tr>\n    <tr>\n      <th>2420</th>\n      <td>2021-07-06</td>\n      <td>oyu hot &amp; spici fish skin, potato chip &amp; veget...</td>\n      <td>NaN</td>\n      <td>NaN</td>\n      <td>27/2021</td>\n    </tr>\n    <tr>\n      <th>2419</th>\n      <td>2021-07-06</td>\n      <td>beryl' coconut sabl with macadamia nut</td>\n      <td>NaN</td>\n      <td>Attributes,Per Serving (),Sugars,5.1g,Carbohyd...</td>\n      <td>27/2021</td>\n    </tr>\n    <tr>\n      <th>2445</th>\n      <td>2021-07-06</td>\n      <td>fruit2go sunflow seed</td>\n      <td>NaN</td>\n      <td>NaN</td>\n      <td>27/2021</td>\n    </tr>\n    <tr>\n      <th>7283</th>\n      <td>2021-07-06</td>\n      <td>nissin instant cup noodl - tom yam seafood</td>\n      <td>• Contains real seafood and tom yam paste,• Re...</td>\n      <td>Attributes,Per Serving (75g),Energy,300kcal,Pr...</td>\n      <td>27/2021</td>\n    </tr>\n  </tbody>\n</table>\n<p>7283 rows × 5 columns</p>\n</div>"
     },
     "metadata": {},
     "execution_count": 11
    }
   ],
   "source": [
    "df"
   ]
  },
  {
   "cell_type": "code",
   "execution_count": 12,
   "metadata": {},
   "outputs": [
    {
     "output_type": "execute_result",
     "data": {
      "text/plain": [
       "           date                                          food name  \\\n",
       "0    2021-07-06                        gardenia enrich white bread   \n",
       "4862 2021-07-06         unikorn can food - premium stew slice pork   \n",
       "4861 2021-07-06      master pasto 3-minut vegetarian mushroom soup   \n",
       "4860 2021-07-06                                    siafa ajwa date   \n",
       "4859 2021-07-06  gin thye tradit mooncak - white lotu doubl yol...   \n",
       "...         ...                                                ...   \n",
       "2421 2021-07-06       gin thye white rabbit cornflak honey cluster   \n",
       "2420 2021-07-06  oyu hot & spici fish skin, potato chip & veget...   \n",
       "2419 2021-07-06             beryl' coconut sabl with macadamia nut   \n",
       "2445 2021-07-06                              fruit2go sunflow seed   \n",
       "7283 2021-07-06         nissin instant cup noodl - tom yam seafood   \n",
       "\n",
       "                                            Ingredients  \\\n",
       "0     • High in vitamin B1, B2, B3 ,• High in calciu...   \n",
       "4862                                                NaN   \n",
       "4861                                                NaN   \n",
       "4860                                                NaN   \n",
       "4859                                                NaN   \n",
       "...                                                 ...   \n",
       "2421                                                NaN   \n",
       "2420                                                NaN   \n",
       "2419                                                NaN   \n",
       "2445                                                NaN   \n",
       "7283  • Contains real seafood and tom yam paste,• Re...   \n",
       "\n",
       "                                              Nutrition Week/Year  \n",
       "0     Attributes,Per Serving (57g),Energy,150kcal,Tr...   27/2021  \n",
       "4862  Attributes,Per Serving (),Sodium,656mg,Total D...   27/2021  \n",
       "4861                                                NaN   27/2021  \n",
       "4860                                                NaN   27/2021  \n",
       "4859                                                NaN   27/2021  \n",
       "...                                                 ...       ...  \n",
       "2421                                                NaN   27/2021  \n",
       "2420                                                NaN   27/2021  \n",
       "2419  Attributes,Per Serving (),Sugars,5.1g,Carbohyd...   27/2021  \n",
       "2445                                                NaN   27/2021  \n",
       "7283  Attributes,Per Serving (75g),Energy,300kcal,Pr...   27/2021  \n",
       "\n",
       "[7283 rows x 5 columns]"
      ],
      "text/html": "<div>\n<style scoped>\n    .dataframe tbody tr th:only-of-type {\n        vertical-align: middle;\n    }\n\n    .dataframe tbody tr th {\n        vertical-align: top;\n    }\n\n    .dataframe thead th {\n        text-align: right;\n    }\n</style>\n<table border=\"1\" class=\"dataframe\">\n  <thead>\n    <tr style=\"text-align: right;\">\n      <th></th>\n      <th>date</th>\n      <th>food name</th>\n      <th>Ingredients</th>\n      <th>Nutrition</th>\n      <th>Week/Year</th>\n    </tr>\n  </thead>\n  <tbody>\n    <tr>\n      <th>0</th>\n      <td>2021-07-06</td>\n      <td>gardenia enrich white bread</td>\n      <td>• High in vitamin B1, B2, B3 ,• High in calciu...</td>\n      <td>Attributes,Per Serving (57g),Energy,150kcal,Tr...</td>\n      <td>27/2021</td>\n    </tr>\n    <tr>\n      <th>4862</th>\n      <td>2021-07-06</td>\n      <td>unikorn can food - premium stew slice pork</td>\n      <td>NaN</td>\n      <td>Attributes,Per Serving (),Sodium,656mg,Total D...</td>\n      <td>27/2021</td>\n    </tr>\n    <tr>\n      <th>4861</th>\n      <td>2021-07-06</td>\n      <td>master pasto 3-minut vegetarian mushroom soup</td>\n      <td>NaN</td>\n      <td>NaN</td>\n      <td>27/2021</td>\n    </tr>\n    <tr>\n      <th>4860</th>\n      <td>2021-07-06</td>\n      <td>siafa ajwa date</td>\n      <td>NaN</td>\n      <td>NaN</td>\n      <td>27/2021</td>\n    </tr>\n    <tr>\n      <th>4859</th>\n      <td>2021-07-06</td>\n      <td>gin thye tradit mooncak - white lotu doubl yol...</td>\n      <td>NaN</td>\n      <td>NaN</td>\n      <td>27/2021</td>\n    </tr>\n    <tr>\n      <th>...</th>\n      <td>...</td>\n      <td>...</td>\n      <td>...</td>\n      <td>...</td>\n      <td>...</td>\n    </tr>\n    <tr>\n      <th>2421</th>\n      <td>2021-07-06</td>\n      <td>gin thye white rabbit cornflak honey cluster</td>\n      <td>NaN</td>\n      <td>NaN</td>\n      <td>27/2021</td>\n    </tr>\n    <tr>\n      <th>2420</th>\n      <td>2021-07-06</td>\n      <td>oyu hot &amp; spici fish skin, potato chip &amp; veget...</td>\n      <td>NaN</td>\n      <td>NaN</td>\n      <td>27/2021</td>\n    </tr>\n    <tr>\n      <th>2419</th>\n      <td>2021-07-06</td>\n      <td>beryl' coconut sabl with macadamia nut</td>\n      <td>NaN</td>\n      <td>Attributes,Per Serving (),Sugars,5.1g,Carbohyd...</td>\n      <td>27/2021</td>\n    </tr>\n    <tr>\n      <th>2445</th>\n      <td>2021-07-06</td>\n      <td>fruit2go sunflow seed</td>\n      <td>NaN</td>\n      <td>NaN</td>\n      <td>27/2021</td>\n    </tr>\n    <tr>\n      <th>7283</th>\n      <td>2021-07-06</td>\n      <td>nissin instant cup noodl - tom yam seafood</td>\n      <td>• Contains real seafood and tom yam paste,• Re...</td>\n      <td>Attributes,Per Serving (75g),Energy,300kcal,Pr...</td>\n      <td>27/2021</td>\n    </tr>\n  </tbody>\n</table>\n<p>7283 rows × 5 columns</p>\n</div>"
     },
     "metadata": {},
     "execution_count": 12
    }
   ],
   "source": [
    "df"
   ]
  },
  {
   "cell_type": "code",
   "execution_count": 16,
   "metadata": {},
   "outputs": [],
   "source": [
    "latest_date=df.iloc[0]['Week/Year']"
   ]
  },
  {
   "cell_type": "code",
   "execution_count": 17,
   "metadata": {},
   "outputs": [
    {
     "output_type": "execute_result",
     "data": {
      "text/plain": [
       "'27/2021'"
      ]
     },
     "metadata": {},
     "execution_count": 17
    }
   ],
   "source": [
    "latest_date"
   ]
  },
  {
   "cell_type": "code",
   "execution_count": 21,
   "metadata": {},
   "outputs": [
    {
     "output_type": "execute_result",
     "data": {
      "text/plain": [
       "'27'"
      ]
     },
     "metadata": {},
     "execution_count": 21
    }
   ],
   "source": [
    "latest_date.split('/')[0]"
   ]
  },
  {
   "cell_type": "code",
   "execution_count": 23,
   "metadata": {},
   "outputs": [
    {
     "output_type": "execute_result",
     "data": {
      "text/plain": [
       "array(['2021-07-06T00:00:00.000000000'], dtype='datetime64[ns]')"
      ]
     },
     "metadata": {},
     "execution_count": 23
    }
   ],
   "source": [
    "df['date'].unique()\n"
   ]
  },
  {
   "cell_type": "code",
   "execution_count": null,
   "metadata": {},
   "outputs": [],
   "source": []
  }
 ]
}