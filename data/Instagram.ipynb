{
 "cells": [
  {
   "cell_type": "markdown",
   "source": [
    "## You need to download chromedriver and an account"
   ],
   "metadata": {}
  },
  {
   "cell_type": "markdown",
   "source": [
    "## Don't run all the code at the same time, run these 2 first"
   ],
   "metadata": {}
  },
  {
   "cell_type": "code",
   "execution_count": 45,
   "source": [
    "from selenium.webdriver import Chrome\n",
    "from selenium.webdriver.chrome.options import Options\n",
    "from instascrape import Profile, scrape_posts, Post, Hashtag\n",
    "import pickle"
   ],
   "outputs": [],
   "metadata": {}
  },
  {
   "cell_type": "code",
   "execution_count": 2,
   "source": [
    "! pip3 install extractemail\n"
   ],
   "outputs": [
    {
     "output_type": "stream",
     "name": "stdout",
     "text": [
      "Collecting extractemail\n",
      "  Downloading extractemail-1.0.1.tar.gz (1.9 kB)\n",
      "Using legacy 'setup.py install' for extractemail, since package 'wheel' is not installed.\n",
      "Installing collected packages: extractemail\n",
      "    Running setup.py install for extractemail ... \u001b[?25ldone\n",
      "\u001b[?25hSuccessfully installed extractemail-1.0.1\n",
      "\u001b[33mWARNING: You are using pip version 21.1.3; however, version 21.2.1 is available.\n",
      "You should consider upgrading via the '/Users/ashivalagar/Desktop/MyProjects/food_dashboard/env/bin/python3.9 -m pip install --upgrade pip' command.\u001b[0m\n"
     ]
    }
   ],
   "metadata": {}
  },
  {
   "cell_type": "code",
   "execution_count": 46,
   "source": [
    "# put the exact location of the chromedriver\n",
    "options = Options()\n",
    "prefs = {\"profile.default_content_setting_values.notifications\" : 2}\n",
    "options.add_experimental_option(\"prefs\",prefs)\n",
    "webdriver = Chrome(options=options)\n",
    "print(webdriver.capabilities)"
   ],
   "outputs": [
    {
     "output_type": "stream",
     "name": "stdout",
     "text": [
      "{'acceptInsecureCerts': False, 'browserName': 'chrome', 'browserVersion': '92.0.4515.131', 'chrome': {'chromedriverVersion': '92.0.4515.107 (87a818b10553a07434ea9e2b6dccf3cbe7895134-refs/branch-heads/4515@{#1634})', 'userDataDir': '/var/folders/j9/bcfx2_8d0bb8hbxtm8rc093c0000gn/T/.com.google.Chrome.W8b95L'}, 'goog:chromeOptions': {'debuggerAddress': 'localhost:52755'}, 'networkConnectionEnabled': False, 'pageLoadStrategy': 'normal', 'platformName': 'mac os x', 'proxy': {}, 'setWindowRect': True, 'strictFileInteractability': False, 'timeouts': {'implicit': 0, 'pageLoad': 300000, 'script': 30000}, 'unhandledPromptBehavior': 'dismiss and notify', 'webauthn:extension:credBlob': True, 'webauthn:extension:largeBlob': True, 'webauthn:virtualAuthenticators': True}\n"
     ]
    }
   ],
   "metadata": {}
  },
  {
   "cell_type": "markdown",
   "source": [
    "## After those first 2 code, get the session ID"
   ],
   "metadata": {}
  },
  {
   "cell_type": "markdown",
   "source": [
    "## For more info, visit\n",
    "## https://dev.to/chrisgreening/scraping-every-post-on-an-instagram-profile-with-less-than-10-lines-of-python-1n8b"
   ],
   "metadata": {}
  },
  {
   "cell_type": "code",
   "execution_count": 5,
   "source": [
    "# Instantiate the scraper objects \n",
    "profile = Profile('https://www.instagram.com/shuangys_kitchensink/')\n",
    "profile_post = Post('https://www.instagram.com/p/CG0UU3ylXnv/')\n",
    "profile_hashtag = Hashtag('https://www.instagram.com/explore/tags/google/')\n",
    "\n",
    "# Scrape their respective data \n",
    "profile.scrape()\n",
    "profile_post.scrape()\n",
    "profile_hashtag.scrape()\n",
    "\n",
    "print(profile.followers)\n",
    "print(profile_post['hashtags'])\n",
    "print(profile_hashtag.amount_of_posts)\n",
    "print(profile.scrape())"
   ],
   "outputs": [
    {
     "output_type": "error",
     "ename": "InstagramLoginRedirectError",
     "evalue": "Instagram is redirecting you to the login page instead of the page you are trying to scrape. This could be occuring because you made too many requests too quickly or are not logged into Instagram on your machine. Try passing a valid session ID to the scrape method as a cookie to bypass the login requirement",
     "traceback": [
      "\u001b[0;31m---------------------------------------------------------------------------\u001b[0m",
      "\u001b[0;31mInstagramLoginRedirectError\u001b[0m               Traceback (most recent call last)",
      "\u001b[0;32m<ipython-input-5-138cb56d2c06>\u001b[0m in \u001b[0;36m<module>\u001b[0;34m\u001b[0m\n\u001b[1;32m      5\u001b[0m \u001b[0;34m\u001b[0m\u001b[0m\n\u001b[1;32m      6\u001b[0m \u001b[0;31m# Scrape their respective data\u001b[0m\u001b[0;34m\u001b[0m\u001b[0;34m\u001b[0m\u001b[0;34m\u001b[0m\u001b[0m\n\u001b[0;32m----> 7\u001b[0;31m \u001b[0mprofile\u001b[0m\u001b[0;34m.\u001b[0m\u001b[0mscrape\u001b[0m\u001b[0;34m(\u001b[0m\u001b[0;34m)\u001b[0m\u001b[0;34m\u001b[0m\u001b[0;34m\u001b[0m\u001b[0m\n\u001b[0m\u001b[1;32m      8\u001b[0m \u001b[0mprofile_post\u001b[0m\u001b[0;34m.\u001b[0m\u001b[0mscrape\u001b[0m\u001b[0;34m(\u001b[0m\u001b[0;34m)\u001b[0m\u001b[0;34m\u001b[0m\u001b[0;34m\u001b[0m\u001b[0m\n\u001b[1;32m      9\u001b[0m \u001b[0mprofile_hashtag\u001b[0m\u001b[0;34m.\u001b[0m\u001b[0mscrape\u001b[0m\u001b[0;34m(\u001b[0m\u001b[0;34m)\u001b[0m\u001b[0;34m\u001b[0m\u001b[0;34m\u001b[0m\u001b[0m\n",
      "\u001b[0;32m~/Desktop/Projects/food_dashboard/env/lib/python3.9/site-packages/instascrape/core/_static_scraper.py\u001b[0m in \u001b[0;36mscrape\u001b[0;34m(self, mapping, keys, exclude, headers, inplace, session, webdriver)\u001b[0m\n\u001b[1;32m    142\u001b[0m             \u001b[0mscraped_dict\u001b[0m \u001b[0;34m=\u001b[0m \u001b[0mself\u001b[0m\u001b[0;34m.\u001b[0m\u001b[0msource\u001b[0m\u001b[0;34m.\u001b[0m\u001b[0mto_dict\u001b[0m\u001b[0;34m(\u001b[0m\u001b[0;34m)\u001b[0m\u001b[0;34m\u001b[0m\u001b[0;34m\u001b[0m\u001b[0m\n\u001b[1;32m    143\u001b[0m         \u001b[0;32melse\u001b[0m\u001b[0;34m:\u001b[0m\u001b[0;34m\u001b[0m\u001b[0;34m\u001b[0m\u001b[0m\n\u001b[0;32m--> 144\u001b[0;31m             \u001b[0mreturn_data\u001b[0m \u001b[0;34m=\u001b[0m \u001b[0mself\u001b[0m\u001b[0;34m.\u001b[0m\u001b[0m_get_json_from_source\u001b[0m\u001b[0;34m(\u001b[0m\u001b[0mself\u001b[0m\u001b[0;34m.\u001b[0m\u001b[0msource\u001b[0m\u001b[0;34m,\u001b[0m \u001b[0mheaders\u001b[0m\u001b[0;34m=\u001b[0m\u001b[0mheaders\u001b[0m\u001b[0;34m,\u001b[0m \u001b[0msession\u001b[0m\u001b[0;34m=\u001b[0m\u001b[0msession\u001b[0m\u001b[0;34m)\u001b[0m\u001b[0;34m\u001b[0m\u001b[0;34m\u001b[0m\u001b[0m\n\u001b[0m\u001b[1;32m    145\u001b[0m             \u001b[0mflat_json_dict\u001b[0m \u001b[0;34m=\u001b[0m \u001b[0mflatten_dict\u001b[0m\u001b[0;34m(\u001b[0m\u001b[0mreturn_data\u001b[0m\u001b[0;34m[\u001b[0m\u001b[0;34m\"json_dict\"\u001b[0m\u001b[0;34m]\u001b[0m\u001b[0;34m)\u001b[0m\u001b[0;34m\u001b[0m\u001b[0;34m\u001b[0m\u001b[0m\n\u001b[1;32m    146\u001b[0m \u001b[0;34m\u001b[0m\u001b[0m\n",
      "\u001b[0;32m~/Desktop/Projects/food_dashboard/env/lib/python3.9/site-packages/instascrape/core/_static_scraper.py\u001b[0m in \u001b[0;36m_get_json_from_source\u001b[0;34m(self, source, headers, session)\u001b[0m\n\u001b[1;32m    263\u001b[0m             \u001b[0;32melse\u001b[0m\u001b[0;34m:\u001b[0m\u001b[0;34m\u001b[0m\u001b[0;34m\u001b[0m\u001b[0m\n\u001b[1;32m    264\u001b[0m                 \u001b[0mjson_dict\u001b[0m \u001b[0;34m=\u001b[0m \u001b[0mjson_dict_arr\u001b[0m\u001b[0;34m[\u001b[0m\u001b[0;36m1\u001b[0m\u001b[0;34m]\u001b[0m\u001b[0;34m\u001b[0m\u001b[0;34m\u001b[0m\u001b[0m\n\u001b[0;32m--> 265\u001b[0;31m             \u001b[0mself\u001b[0m\u001b[0;34m.\u001b[0m\u001b[0m_validate_scrape\u001b[0m\u001b[0;34m(\u001b[0m\u001b[0mjson_dict\u001b[0m\u001b[0;34m)\u001b[0m\u001b[0;34m\u001b[0m\u001b[0;34m\u001b[0m\u001b[0m\n\u001b[0m\u001b[1;32m    266\u001b[0m \u001b[0;34m\u001b[0m\u001b[0m\n\u001b[1;32m    267\u001b[0m         \u001b[0mreturn_data\u001b[0m\u001b[0;34m[\u001b[0m\u001b[0;34m\"json_dict\"\u001b[0m\u001b[0;34m]\u001b[0m \u001b[0;34m=\u001b[0m \u001b[0mjson_dict\u001b[0m\u001b[0;34m\u001b[0m\u001b[0;34m\u001b[0m\u001b[0m\n",
      "\u001b[0;32m~/Desktop/Projects/food_dashboard/env/lib/python3.9/site-packages/instascrape/core/_static_scraper.py\u001b[0m in \u001b[0;36m_validate_scrape\u001b[0;34m(self, json_dict)\u001b[0m\n\u001b[1;32m    299\u001b[0m         \u001b[0mjson_type\u001b[0m \u001b[0;34m=\u001b[0m \u001b[0mdetermine_json_type\u001b[0m\u001b[0;34m(\u001b[0m\u001b[0mjson_dict\u001b[0m\u001b[0;34m)\u001b[0m\u001b[0;34m\u001b[0m\u001b[0;34m\u001b[0m\u001b[0m\n\u001b[1;32m    300\u001b[0m         \u001b[0;32mif\u001b[0m \u001b[0mjson_type\u001b[0m \u001b[0;34m==\u001b[0m \u001b[0;34m\"LoginAndSignupPage\"\u001b[0m \u001b[0;32mand\u001b[0m \u001b[0;32mnot\u001b[0m \u001b[0mtype\u001b[0m\u001b[0;34m(\u001b[0m\u001b[0mself\u001b[0m\u001b[0;34m)\u001b[0m\u001b[0;34m.\u001b[0m\u001b[0m__name__\u001b[0m \u001b[0;34m==\u001b[0m \u001b[0;34m\"LoginAndSignupPage\"\u001b[0m\u001b[0;34m:\u001b[0m\u001b[0;34m\u001b[0m\u001b[0;34m\u001b[0m\u001b[0m\n\u001b[0;32m--> 301\u001b[0;31m             \u001b[0;32mraise\u001b[0m \u001b[0mInstagramLoginRedirectError\u001b[0m\u001b[0;34m\u001b[0m\u001b[0;34m\u001b[0m\u001b[0m\n\u001b[0m\u001b[1;32m    302\u001b[0m         \u001b[0;32melif\u001b[0m \u001b[0mjson_type\u001b[0m \u001b[0;34m==\u001b[0m \u001b[0;34m\"HttpErrorPage\"\u001b[0m \u001b[0;32mand\u001b[0m \u001b[0;32mnot\u001b[0m \u001b[0mtype\u001b[0m\u001b[0;34m(\u001b[0m\u001b[0mself\u001b[0m\u001b[0;34m)\u001b[0m\u001b[0;34m.\u001b[0m\u001b[0m__name__\u001b[0m \u001b[0;34m==\u001b[0m \u001b[0;34m\"HttpErrorPage\"\u001b[0m\u001b[0;34m:\u001b[0m\u001b[0;34m\u001b[0m\u001b[0;34m\u001b[0m\u001b[0m\n\u001b[1;32m    303\u001b[0m             \u001b[0msource_str\u001b[0m \u001b[0;34m=\u001b[0m \u001b[0mself\u001b[0m\u001b[0;34m.\u001b[0m\u001b[0murl\u001b[0m \u001b[0;32mif\u001b[0m \u001b[0mhasattr\u001b[0m\u001b[0;34m(\u001b[0m\u001b[0mself\u001b[0m\u001b[0;34m,\u001b[0m \u001b[0;34m\"url\"\u001b[0m\u001b[0;34m)\u001b[0m \u001b[0;32melse\u001b[0m \u001b[0;34m\"Source\"\u001b[0m\u001b[0;34m\u001b[0m\u001b[0;34m\u001b[0m\u001b[0m\n",
      "\u001b[0;31mInstagramLoginRedirectError\u001b[0m: Instagram is redirecting you to the login page instead of the page you are trying to scrape. This could be occuring because you made too many requests too quickly or are not logged into Instagram on your machine. Try passing a valid session ID to the scrape method as a cookie to bypass the login requirement"
     ]
    }
   ],
   "metadata": {
    "jupyter": {
     "source_hidden": true
    },
    "tags": []
   }
  },
  {
   "cell_type": "code",
   "execution_count": 47,
   "source": [
    "# Put the session ID here inside the ''\n",
    "sessionid = '464683160%3AmVUHZI75C3P6G2%3A25'\n",
    "headers = {\"user-agent\": \"Mozilla/5.0 (Linux; Android 6.0; Nexus 5 Build/MRA58N) AppleWebKit/537.36 (KHTML, like Gecko) Chrome/92.0.4515.107 Mobile Safari/537.36 Edg/87.0.664.57\",\n",
    "           \"cookie\": f\"sessionid={SESSIONID};\"}\n",
    "# headers = {\"user-agent\": \"Mozilla/5.0 (Linux; Android 6.0; Nexus 5 Build/MRA58N) AppleWebKit/537.36 (KHTML, like Gecko) Chrome/90.0.4430.212 Mobile Safari/537.36 Edg/87.0.664.57\"}\n",
    "# Put the profile name here\n",
    "profile_name = 'asianfoodnetwork'\n",
    "profile = Profile(profile_name)\n",
    "profile.scrape(headers=headers)\n",
    "posts = profile.get_posts(webdriver=webdriver, login_first=True, max_failed_scroll=1000, login_pause=10, amount=1000)"
   ],
   "outputs": [],
   "metadata": {
    "tags": []
   }
  },
  {
   "cell_type": "markdown",
   "source": [
    "## Run this (one) code below and check it every few minutes in case it gets stuck and you should scroll up a bit to make it scroll again, and repeat the process until it gets scrolled all the way down"
   ],
   "metadata": {}
  },
  {
   "cell_type": "code",
   "execution_count": 44,
   "source": [
    "posts = profile.get_posts(webdriver=webdriver, login_first=True, max_failed_scroll=1000, login_pause=10, amount=1000)"
   ],
   "outputs": [
    {
     "output_type": "error",
     "ename": "MaxRetryError",
     "evalue": "HTTPConnectionPool(host='127.0.0.1', port=52686): Max retries exceeded with url: /session/bf205a5418005dcb001be5c06079e22d/url (Caused by NewConnectionError('<urllib3.connection.HTTPConnection object at 0x111eda550>: Failed to establish a new connection: [Errno 61] Connection refused'))",
     "traceback": [
      "\u001b[0;31m---------------------------------------------------------------------------\u001b[0m",
      "\u001b[0;31mConnectionRefusedError\u001b[0m                    Traceback (most recent call last)",
      "\u001b[0;32m~/Desktop/Projects/food_dashboard/env/lib/python3.9/site-packages/urllib3/connection.py\u001b[0m in \u001b[0;36m_new_conn\u001b[0;34m(self)\u001b[0m\n\u001b[1;32m    168\u001b[0m         \u001b[0;32mtry\u001b[0m\u001b[0;34m:\u001b[0m\u001b[0;34m\u001b[0m\u001b[0;34m\u001b[0m\u001b[0m\n\u001b[0;32m--> 169\u001b[0;31m             conn = connection.create_connection(\n\u001b[0m\u001b[1;32m    170\u001b[0m                 \u001b[0;34m(\u001b[0m\u001b[0mself\u001b[0m\u001b[0;34m.\u001b[0m\u001b[0m_dns_host\u001b[0m\u001b[0;34m,\u001b[0m \u001b[0mself\u001b[0m\u001b[0;34m.\u001b[0m\u001b[0mport\u001b[0m\u001b[0;34m)\u001b[0m\u001b[0;34m,\u001b[0m \u001b[0mself\u001b[0m\u001b[0;34m.\u001b[0m\u001b[0mtimeout\u001b[0m\u001b[0;34m,\u001b[0m \u001b[0;34m**\u001b[0m\u001b[0mextra_kw\u001b[0m\u001b[0;34m\u001b[0m\u001b[0;34m\u001b[0m\u001b[0m\n",
      "\u001b[0;32m~/Desktop/Projects/food_dashboard/env/lib/python3.9/site-packages/urllib3/util/connection.py\u001b[0m in \u001b[0;36mcreate_connection\u001b[0;34m(address, timeout, source_address, socket_options)\u001b[0m\n\u001b[1;32m     95\u001b[0m     \u001b[0;32mif\u001b[0m \u001b[0merr\u001b[0m \u001b[0;32mis\u001b[0m \u001b[0;32mnot\u001b[0m \u001b[0;32mNone\u001b[0m\u001b[0;34m:\u001b[0m\u001b[0;34m\u001b[0m\u001b[0;34m\u001b[0m\u001b[0m\n\u001b[0;32m---> 96\u001b[0;31m         \u001b[0;32mraise\u001b[0m \u001b[0merr\u001b[0m\u001b[0;34m\u001b[0m\u001b[0;34m\u001b[0m\u001b[0m\n\u001b[0m\u001b[1;32m     97\u001b[0m \u001b[0;34m\u001b[0m\u001b[0m\n",
      "\u001b[0;32m~/Desktop/Projects/food_dashboard/env/lib/python3.9/site-packages/urllib3/util/connection.py\u001b[0m in \u001b[0;36mcreate_connection\u001b[0;34m(address, timeout, source_address, socket_options)\u001b[0m\n\u001b[1;32m     85\u001b[0m                 \u001b[0msock\u001b[0m\u001b[0;34m.\u001b[0m\u001b[0mbind\u001b[0m\u001b[0;34m(\u001b[0m\u001b[0msource_address\u001b[0m\u001b[0;34m)\u001b[0m\u001b[0;34m\u001b[0m\u001b[0;34m\u001b[0m\u001b[0m\n\u001b[0;32m---> 86\u001b[0;31m             \u001b[0msock\u001b[0m\u001b[0;34m.\u001b[0m\u001b[0mconnect\u001b[0m\u001b[0;34m(\u001b[0m\u001b[0msa\u001b[0m\u001b[0;34m)\u001b[0m\u001b[0;34m\u001b[0m\u001b[0;34m\u001b[0m\u001b[0m\n\u001b[0m\u001b[1;32m     87\u001b[0m             \u001b[0;32mreturn\u001b[0m \u001b[0msock\u001b[0m\u001b[0;34m\u001b[0m\u001b[0;34m\u001b[0m\u001b[0m\n",
      "\u001b[0;31mConnectionRefusedError\u001b[0m: [Errno 61] Connection refused",
      "\nDuring handling of the above exception, another exception occurred:\n",
      "\u001b[0;31mNewConnectionError\u001b[0m                        Traceback (most recent call last)",
      "\u001b[0;32m~/Desktop/Projects/food_dashboard/env/lib/python3.9/site-packages/urllib3/connectionpool.py\u001b[0m in \u001b[0;36murlopen\u001b[0;34m(self, method, url, body, headers, retries, redirect, assert_same_host, timeout, pool_timeout, release_conn, chunked, body_pos, **response_kw)\u001b[0m\n\u001b[1;32m    698\u001b[0m             \u001b[0;31m# Make the request on the httplib connection object.\u001b[0m\u001b[0;34m\u001b[0m\u001b[0;34m\u001b[0m\u001b[0;34m\u001b[0m\u001b[0m\n\u001b[0;32m--> 699\u001b[0;31m             httplib_response = self._make_request(\n\u001b[0m\u001b[1;32m    700\u001b[0m                 \u001b[0mconn\u001b[0m\u001b[0;34m,\u001b[0m\u001b[0;34m\u001b[0m\u001b[0;34m\u001b[0m\u001b[0m\n",
      "\u001b[0;32m~/Desktop/Projects/food_dashboard/env/lib/python3.9/site-packages/urllib3/connectionpool.py\u001b[0m in \u001b[0;36m_make_request\u001b[0;34m(self, conn, method, url, timeout, chunked, **httplib_request_kw)\u001b[0m\n\u001b[1;32m    393\u001b[0m             \u001b[0;32melse\u001b[0m\u001b[0;34m:\u001b[0m\u001b[0;34m\u001b[0m\u001b[0;34m\u001b[0m\u001b[0m\n\u001b[0;32m--> 394\u001b[0;31m                 \u001b[0mconn\u001b[0m\u001b[0;34m.\u001b[0m\u001b[0mrequest\u001b[0m\u001b[0;34m(\u001b[0m\u001b[0mmethod\u001b[0m\u001b[0;34m,\u001b[0m \u001b[0murl\u001b[0m\u001b[0;34m,\u001b[0m \u001b[0;34m**\u001b[0m\u001b[0mhttplib_request_kw\u001b[0m\u001b[0;34m)\u001b[0m\u001b[0;34m\u001b[0m\u001b[0;34m\u001b[0m\u001b[0m\n\u001b[0m\u001b[1;32m    395\u001b[0m \u001b[0;34m\u001b[0m\u001b[0m\n",
      "\u001b[0;32m~/Desktop/Projects/food_dashboard/env/lib/python3.9/site-packages/urllib3/connection.py\u001b[0m in \u001b[0;36mrequest\u001b[0;34m(self, method, url, body, headers)\u001b[0m\n\u001b[1;32m    233\u001b[0m             \u001b[0mheaders\u001b[0m\u001b[0;34m[\u001b[0m\u001b[0;34m\"User-Agent\"\u001b[0m\u001b[0;34m]\u001b[0m \u001b[0;34m=\u001b[0m \u001b[0m_get_default_user_agent\u001b[0m\u001b[0;34m(\u001b[0m\u001b[0;34m)\u001b[0m\u001b[0;34m\u001b[0m\u001b[0;34m\u001b[0m\u001b[0m\n\u001b[0;32m--> 234\u001b[0;31m         \u001b[0msuper\u001b[0m\u001b[0;34m(\u001b[0m\u001b[0mHTTPConnection\u001b[0m\u001b[0;34m,\u001b[0m \u001b[0mself\u001b[0m\u001b[0;34m)\u001b[0m\u001b[0;34m.\u001b[0m\u001b[0mrequest\u001b[0m\u001b[0;34m(\u001b[0m\u001b[0mmethod\u001b[0m\u001b[0;34m,\u001b[0m \u001b[0murl\u001b[0m\u001b[0;34m,\u001b[0m \u001b[0mbody\u001b[0m\u001b[0;34m=\u001b[0m\u001b[0mbody\u001b[0m\u001b[0;34m,\u001b[0m \u001b[0mheaders\u001b[0m\u001b[0;34m=\u001b[0m\u001b[0mheaders\u001b[0m\u001b[0;34m)\u001b[0m\u001b[0;34m\u001b[0m\u001b[0;34m\u001b[0m\u001b[0m\n\u001b[0m\u001b[1;32m    235\u001b[0m \u001b[0;34m\u001b[0m\u001b[0m\n",
      "\u001b[0;32m/usr/local/Cellar/python@3.9/3.9.1_6/Frameworks/Python.framework/Versions/3.9/lib/python3.9/http/client.py\u001b[0m in \u001b[0;36mrequest\u001b[0;34m(self, method, url, body, headers, encode_chunked)\u001b[0m\n\u001b[1;32m   1254\u001b[0m         \u001b[0;34m\"\"\"Send a complete request to the server.\"\"\"\u001b[0m\u001b[0;34m\u001b[0m\u001b[0;34m\u001b[0m\u001b[0m\n\u001b[0;32m-> 1255\u001b[0;31m         \u001b[0mself\u001b[0m\u001b[0;34m.\u001b[0m\u001b[0m_send_request\u001b[0m\u001b[0;34m(\u001b[0m\u001b[0mmethod\u001b[0m\u001b[0;34m,\u001b[0m \u001b[0murl\u001b[0m\u001b[0;34m,\u001b[0m \u001b[0mbody\u001b[0m\u001b[0;34m,\u001b[0m \u001b[0mheaders\u001b[0m\u001b[0;34m,\u001b[0m \u001b[0mencode_chunked\u001b[0m\u001b[0;34m)\u001b[0m\u001b[0;34m\u001b[0m\u001b[0;34m\u001b[0m\u001b[0m\n\u001b[0m\u001b[1;32m   1256\u001b[0m \u001b[0;34m\u001b[0m\u001b[0m\n",
      "\u001b[0;32m/usr/local/Cellar/python@3.9/3.9.1_6/Frameworks/Python.framework/Versions/3.9/lib/python3.9/http/client.py\u001b[0m in \u001b[0;36m_send_request\u001b[0;34m(self, method, url, body, headers, encode_chunked)\u001b[0m\n\u001b[1;32m   1300\u001b[0m             \u001b[0mbody\u001b[0m \u001b[0;34m=\u001b[0m \u001b[0m_encode\u001b[0m\u001b[0;34m(\u001b[0m\u001b[0mbody\u001b[0m\u001b[0;34m,\u001b[0m \u001b[0;34m'body'\u001b[0m\u001b[0;34m)\u001b[0m\u001b[0;34m\u001b[0m\u001b[0;34m\u001b[0m\u001b[0m\n\u001b[0;32m-> 1301\u001b[0;31m         \u001b[0mself\u001b[0m\u001b[0;34m.\u001b[0m\u001b[0mendheaders\u001b[0m\u001b[0;34m(\u001b[0m\u001b[0mbody\u001b[0m\u001b[0;34m,\u001b[0m \u001b[0mencode_chunked\u001b[0m\u001b[0;34m=\u001b[0m\u001b[0mencode_chunked\u001b[0m\u001b[0;34m)\u001b[0m\u001b[0;34m\u001b[0m\u001b[0;34m\u001b[0m\u001b[0m\n\u001b[0m\u001b[1;32m   1302\u001b[0m \u001b[0;34m\u001b[0m\u001b[0m\n",
      "\u001b[0;32m/usr/local/Cellar/python@3.9/3.9.1_6/Frameworks/Python.framework/Versions/3.9/lib/python3.9/http/client.py\u001b[0m in \u001b[0;36mendheaders\u001b[0;34m(self, message_body, encode_chunked)\u001b[0m\n\u001b[1;32m   1249\u001b[0m             \u001b[0;32mraise\u001b[0m \u001b[0mCannotSendHeader\u001b[0m\u001b[0;34m(\u001b[0m\u001b[0;34m)\u001b[0m\u001b[0;34m\u001b[0m\u001b[0;34m\u001b[0m\u001b[0m\n\u001b[0;32m-> 1250\u001b[0;31m         \u001b[0mself\u001b[0m\u001b[0;34m.\u001b[0m\u001b[0m_send_output\u001b[0m\u001b[0;34m(\u001b[0m\u001b[0mmessage_body\u001b[0m\u001b[0;34m,\u001b[0m \u001b[0mencode_chunked\u001b[0m\u001b[0;34m=\u001b[0m\u001b[0mencode_chunked\u001b[0m\u001b[0;34m)\u001b[0m\u001b[0;34m\u001b[0m\u001b[0;34m\u001b[0m\u001b[0m\n\u001b[0m\u001b[1;32m   1251\u001b[0m \u001b[0;34m\u001b[0m\u001b[0m\n",
      "\u001b[0;32m/usr/local/Cellar/python@3.9/3.9.1_6/Frameworks/Python.framework/Versions/3.9/lib/python3.9/http/client.py\u001b[0m in \u001b[0;36m_send_output\u001b[0;34m(self, message_body, encode_chunked)\u001b[0m\n\u001b[1;32m   1009\u001b[0m         \u001b[0;32mdel\u001b[0m \u001b[0mself\u001b[0m\u001b[0;34m.\u001b[0m\u001b[0m_buffer\u001b[0m\u001b[0;34m[\u001b[0m\u001b[0;34m:\u001b[0m\u001b[0;34m]\u001b[0m\u001b[0;34m\u001b[0m\u001b[0;34m\u001b[0m\u001b[0m\n\u001b[0;32m-> 1010\u001b[0;31m         \u001b[0mself\u001b[0m\u001b[0;34m.\u001b[0m\u001b[0msend\u001b[0m\u001b[0;34m(\u001b[0m\u001b[0mmsg\u001b[0m\u001b[0;34m)\u001b[0m\u001b[0;34m\u001b[0m\u001b[0;34m\u001b[0m\u001b[0m\n\u001b[0m\u001b[1;32m   1011\u001b[0m \u001b[0;34m\u001b[0m\u001b[0m\n",
      "\u001b[0;32m/usr/local/Cellar/python@3.9/3.9.1_6/Frameworks/Python.framework/Versions/3.9/lib/python3.9/http/client.py\u001b[0m in \u001b[0;36msend\u001b[0;34m(self, data)\u001b[0m\n\u001b[1;32m    949\u001b[0m             \u001b[0;32mif\u001b[0m \u001b[0mself\u001b[0m\u001b[0;34m.\u001b[0m\u001b[0mauto_open\u001b[0m\u001b[0;34m:\u001b[0m\u001b[0;34m\u001b[0m\u001b[0;34m\u001b[0m\u001b[0m\n\u001b[0;32m--> 950\u001b[0;31m                 \u001b[0mself\u001b[0m\u001b[0;34m.\u001b[0m\u001b[0mconnect\u001b[0m\u001b[0;34m(\u001b[0m\u001b[0;34m)\u001b[0m\u001b[0;34m\u001b[0m\u001b[0;34m\u001b[0m\u001b[0m\n\u001b[0m\u001b[1;32m    951\u001b[0m             \u001b[0;32melse\u001b[0m\u001b[0;34m:\u001b[0m\u001b[0;34m\u001b[0m\u001b[0;34m\u001b[0m\u001b[0m\n",
      "\u001b[0;32m~/Desktop/Projects/food_dashboard/env/lib/python3.9/site-packages/urllib3/connection.py\u001b[0m in \u001b[0;36mconnect\u001b[0;34m(self)\u001b[0m\n\u001b[1;32m    199\u001b[0m     \u001b[0;32mdef\u001b[0m \u001b[0mconnect\u001b[0m\u001b[0;34m(\u001b[0m\u001b[0mself\u001b[0m\u001b[0;34m)\u001b[0m\u001b[0;34m:\u001b[0m\u001b[0;34m\u001b[0m\u001b[0;34m\u001b[0m\u001b[0m\n\u001b[0;32m--> 200\u001b[0;31m         \u001b[0mconn\u001b[0m \u001b[0;34m=\u001b[0m \u001b[0mself\u001b[0m\u001b[0;34m.\u001b[0m\u001b[0m_new_conn\u001b[0m\u001b[0;34m(\u001b[0m\u001b[0;34m)\u001b[0m\u001b[0;34m\u001b[0m\u001b[0;34m\u001b[0m\u001b[0m\n\u001b[0m\u001b[1;32m    201\u001b[0m         \u001b[0mself\u001b[0m\u001b[0;34m.\u001b[0m\u001b[0m_prepare_conn\u001b[0m\u001b[0;34m(\u001b[0m\u001b[0mconn\u001b[0m\u001b[0;34m)\u001b[0m\u001b[0;34m\u001b[0m\u001b[0;34m\u001b[0m\u001b[0m\n",
      "\u001b[0;32m~/Desktop/Projects/food_dashboard/env/lib/python3.9/site-packages/urllib3/connection.py\u001b[0m in \u001b[0;36m_new_conn\u001b[0;34m(self)\u001b[0m\n\u001b[1;32m    180\u001b[0m         \u001b[0;32mexcept\u001b[0m \u001b[0mSocketError\u001b[0m \u001b[0;32mas\u001b[0m \u001b[0me\u001b[0m\u001b[0;34m:\u001b[0m\u001b[0;34m\u001b[0m\u001b[0;34m\u001b[0m\u001b[0m\n\u001b[0;32m--> 181\u001b[0;31m             raise NewConnectionError(\n\u001b[0m\u001b[1;32m    182\u001b[0m                 \u001b[0mself\u001b[0m\u001b[0;34m,\u001b[0m \u001b[0;34m\"Failed to establish a new connection: %s\"\u001b[0m \u001b[0;34m%\u001b[0m \u001b[0me\u001b[0m\u001b[0;34m\u001b[0m\u001b[0;34m\u001b[0m\u001b[0m\n",
      "\u001b[0;31mNewConnectionError\u001b[0m: <urllib3.connection.HTTPConnection object at 0x111eda550>: Failed to establish a new connection: [Errno 61] Connection refused",
      "\nDuring handling of the above exception, another exception occurred:\n",
      "\u001b[0;31mMaxRetryError\u001b[0m                             Traceback (most recent call last)",
      "\u001b[0;32m<ipython-input-44-6d36765b9dbc>\u001b[0m in \u001b[0;36m<module>\u001b[0;34m\u001b[0m\n\u001b[0;32m----> 1\u001b[0;31m \u001b[0mposts\u001b[0m \u001b[0;34m=\u001b[0m \u001b[0mprofile\u001b[0m\u001b[0;34m.\u001b[0m\u001b[0mget_posts\u001b[0m\u001b[0;34m(\u001b[0m\u001b[0mwebdriver\u001b[0m\u001b[0;34m=\u001b[0m\u001b[0mwebdriver\u001b[0m\u001b[0;34m,\u001b[0m \u001b[0mlogin_first\u001b[0m\u001b[0;34m=\u001b[0m\u001b[0;32mTrue\u001b[0m\u001b[0;34m,\u001b[0m \u001b[0mmax_failed_scroll\u001b[0m\u001b[0;34m=\u001b[0m\u001b[0;36m1000\u001b[0m\u001b[0;34m,\u001b[0m \u001b[0mlogin_pause\u001b[0m\u001b[0;34m=\u001b[0m\u001b[0;36m10\u001b[0m\u001b[0;34m,\u001b[0m \u001b[0mamount\u001b[0m\u001b[0;34m=\u001b[0m\u001b[0;36m1000\u001b[0m\u001b[0;34m)\u001b[0m\u001b[0;34m\u001b[0m\u001b[0;34m\u001b[0m\u001b[0m\n\u001b[0m",
      "\u001b[0;32m~/Desktop/Projects/food_dashboard/env/lib/python3.9/site-packages/instascrape/scrapers/profile.py\u001b[0m in \u001b[0;36mget_posts\u001b[0;34m(self, webdriver, amount, login_first, login_pause, max_failed_scroll, scrape, scrape_pause)\u001b[0m\n\u001b[1;32m     98\u001b[0m         \u001b[0;31m# Manual login\u001b[0m\u001b[0;34m\u001b[0m\u001b[0;34m\u001b[0m\u001b[0;34m\u001b[0m\u001b[0m\n\u001b[1;32m     99\u001b[0m         \u001b[0;32mif\u001b[0m \u001b[0mlogin_first\u001b[0m\u001b[0;34m:\u001b[0m\u001b[0;34m\u001b[0m\u001b[0;34m\u001b[0m\u001b[0m\n\u001b[0;32m--> 100\u001b[0;31m             \u001b[0mwebdriver\u001b[0m\u001b[0;34m.\u001b[0m\u001b[0mget\u001b[0m\u001b[0;34m(\u001b[0m\u001b[0;34m\"https://www.instagram.com\"\u001b[0m\u001b[0;34m)\u001b[0m\u001b[0;34m\u001b[0m\u001b[0;34m\u001b[0m\u001b[0m\n\u001b[0m\u001b[1;32m    101\u001b[0m             \u001b[0mtime\u001b[0m\u001b[0;34m.\u001b[0m\u001b[0msleep\u001b[0m\u001b[0;34m(\u001b[0m\u001b[0mlogin_pause\u001b[0m\u001b[0;34m)\u001b[0m\u001b[0;34m\u001b[0m\u001b[0;34m\u001b[0m\u001b[0m\n\u001b[1;32m    102\u001b[0m \u001b[0;34m\u001b[0m\u001b[0m\n",
      "\u001b[0;32m~/Desktop/Projects/food_dashboard/env/lib/python3.9/site-packages/selenium/webdriver/remote/webdriver.py\u001b[0m in \u001b[0;36mget\u001b[0;34m(self, url)\u001b[0m\n\u001b[1;32m    331\u001b[0m         \u001b[0mLoads\u001b[0m \u001b[0ma\u001b[0m \u001b[0mweb\u001b[0m \u001b[0mpage\u001b[0m \u001b[0;32min\u001b[0m \u001b[0mthe\u001b[0m \u001b[0mcurrent\u001b[0m \u001b[0mbrowser\u001b[0m \u001b[0msession\u001b[0m\u001b[0;34m.\u001b[0m\u001b[0;34m\u001b[0m\u001b[0;34m\u001b[0m\u001b[0m\n\u001b[1;32m    332\u001b[0m         \"\"\"\n\u001b[0;32m--> 333\u001b[0;31m         \u001b[0mself\u001b[0m\u001b[0;34m.\u001b[0m\u001b[0mexecute\u001b[0m\u001b[0;34m(\u001b[0m\u001b[0mCommand\u001b[0m\u001b[0;34m.\u001b[0m\u001b[0mGET\u001b[0m\u001b[0;34m,\u001b[0m \u001b[0;34m{\u001b[0m\u001b[0;34m'url'\u001b[0m\u001b[0;34m:\u001b[0m \u001b[0murl\u001b[0m\u001b[0;34m}\u001b[0m\u001b[0;34m)\u001b[0m\u001b[0;34m\u001b[0m\u001b[0;34m\u001b[0m\u001b[0m\n\u001b[0m\u001b[1;32m    334\u001b[0m \u001b[0;34m\u001b[0m\u001b[0m\n\u001b[1;32m    335\u001b[0m     \u001b[0;34m@\u001b[0m\u001b[0mproperty\u001b[0m\u001b[0;34m\u001b[0m\u001b[0;34m\u001b[0m\u001b[0m\n",
      "\u001b[0;32m~/Desktop/Projects/food_dashboard/env/lib/python3.9/site-packages/selenium/webdriver/remote/webdriver.py\u001b[0m in \u001b[0;36mexecute\u001b[0;34m(self, driver_command, params)\u001b[0m\n\u001b[1;32m    317\u001b[0m \u001b[0;34m\u001b[0m\u001b[0m\n\u001b[1;32m    318\u001b[0m         \u001b[0mparams\u001b[0m \u001b[0;34m=\u001b[0m \u001b[0mself\u001b[0m\u001b[0;34m.\u001b[0m\u001b[0m_wrap_value\u001b[0m\u001b[0;34m(\u001b[0m\u001b[0mparams\u001b[0m\u001b[0;34m)\u001b[0m\u001b[0;34m\u001b[0m\u001b[0;34m\u001b[0m\u001b[0m\n\u001b[0;32m--> 319\u001b[0;31m         \u001b[0mresponse\u001b[0m \u001b[0;34m=\u001b[0m \u001b[0mself\u001b[0m\u001b[0;34m.\u001b[0m\u001b[0mcommand_executor\u001b[0m\u001b[0;34m.\u001b[0m\u001b[0mexecute\u001b[0m\u001b[0;34m(\u001b[0m\u001b[0mdriver_command\u001b[0m\u001b[0;34m,\u001b[0m \u001b[0mparams\u001b[0m\u001b[0;34m)\u001b[0m\u001b[0;34m\u001b[0m\u001b[0;34m\u001b[0m\u001b[0m\n\u001b[0m\u001b[1;32m    320\u001b[0m         \u001b[0;32mif\u001b[0m \u001b[0mresponse\u001b[0m\u001b[0;34m:\u001b[0m\u001b[0;34m\u001b[0m\u001b[0;34m\u001b[0m\u001b[0m\n\u001b[1;32m    321\u001b[0m             \u001b[0mself\u001b[0m\u001b[0;34m.\u001b[0m\u001b[0merror_handler\u001b[0m\u001b[0;34m.\u001b[0m\u001b[0mcheck_response\u001b[0m\u001b[0;34m(\u001b[0m\u001b[0mresponse\u001b[0m\u001b[0;34m)\u001b[0m\u001b[0;34m\u001b[0m\u001b[0;34m\u001b[0m\u001b[0m\n",
      "\u001b[0;32m~/Desktop/Projects/food_dashboard/env/lib/python3.9/site-packages/selenium/webdriver/remote/remote_connection.py\u001b[0m in \u001b[0;36mexecute\u001b[0;34m(self, command, params)\u001b[0m\n\u001b[1;32m    372\u001b[0m         \u001b[0mdata\u001b[0m \u001b[0;34m=\u001b[0m \u001b[0mutils\u001b[0m\u001b[0;34m.\u001b[0m\u001b[0mdump_json\u001b[0m\u001b[0;34m(\u001b[0m\u001b[0mparams\u001b[0m\u001b[0;34m)\u001b[0m\u001b[0;34m\u001b[0m\u001b[0;34m\u001b[0m\u001b[0m\n\u001b[1;32m    373\u001b[0m         \u001b[0murl\u001b[0m \u001b[0;34m=\u001b[0m \u001b[0;34m'%s%s'\u001b[0m \u001b[0;34m%\u001b[0m \u001b[0;34m(\u001b[0m\u001b[0mself\u001b[0m\u001b[0;34m.\u001b[0m\u001b[0m_url\u001b[0m\u001b[0;34m,\u001b[0m \u001b[0mpath\u001b[0m\u001b[0;34m)\u001b[0m\u001b[0;34m\u001b[0m\u001b[0;34m\u001b[0m\u001b[0m\n\u001b[0;32m--> 374\u001b[0;31m         \u001b[0;32mreturn\u001b[0m \u001b[0mself\u001b[0m\u001b[0;34m.\u001b[0m\u001b[0m_request\u001b[0m\u001b[0;34m(\u001b[0m\u001b[0mcommand_info\u001b[0m\u001b[0;34m[\u001b[0m\u001b[0;36m0\u001b[0m\u001b[0;34m]\u001b[0m\u001b[0;34m,\u001b[0m \u001b[0murl\u001b[0m\u001b[0;34m,\u001b[0m \u001b[0mbody\u001b[0m\u001b[0;34m=\u001b[0m\u001b[0mdata\u001b[0m\u001b[0;34m)\u001b[0m\u001b[0;34m\u001b[0m\u001b[0;34m\u001b[0m\u001b[0m\n\u001b[0m\u001b[1;32m    375\u001b[0m \u001b[0;34m\u001b[0m\u001b[0m\n\u001b[1;32m    376\u001b[0m     \u001b[0;32mdef\u001b[0m \u001b[0m_request\u001b[0m\u001b[0;34m(\u001b[0m\u001b[0mself\u001b[0m\u001b[0;34m,\u001b[0m \u001b[0mmethod\u001b[0m\u001b[0;34m,\u001b[0m \u001b[0murl\u001b[0m\u001b[0;34m,\u001b[0m \u001b[0mbody\u001b[0m\u001b[0;34m=\u001b[0m\u001b[0;32mNone\u001b[0m\u001b[0;34m)\u001b[0m\u001b[0;34m:\u001b[0m\u001b[0;34m\u001b[0m\u001b[0;34m\u001b[0m\u001b[0m\n",
      "\u001b[0;32m~/Desktop/Projects/food_dashboard/env/lib/python3.9/site-packages/selenium/webdriver/remote/remote_connection.py\u001b[0m in \u001b[0;36m_request\u001b[0;34m(self, method, url, body)\u001b[0m\n\u001b[1;32m    395\u001b[0m \u001b[0;34m\u001b[0m\u001b[0m\n\u001b[1;32m    396\u001b[0m         \u001b[0;32mif\u001b[0m \u001b[0mself\u001b[0m\u001b[0;34m.\u001b[0m\u001b[0mkeep_alive\u001b[0m\u001b[0;34m:\u001b[0m\u001b[0;34m\u001b[0m\u001b[0;34m\u001b[0m\u001b[0m\n\u001b[0;32m--> 397\u001b[0;31m             \u001b[0mresp\u001b[0m \u001b[0;34m=\u001b[0m \u001b[0mself\u001b[0m\u001b[0;34m.\u001b[0m\u001b[0m_conn\u001b[0m\u001b[0;34m.\u001b[0m\u001b[0mrequest\u001b[0m\u001b[0;34m(\u001b[0m\u001b[0mmethod\u001b[0m\u001b[0;34m,\u001b[0m \u001b[0murl\u001b[0m\u001b[0;34m,\u001b[0m \u001b[0mbody\u001b[0m\u001b[0;34m=\u001b[0m\u001b[0mbody\u001b[0m\u001b[0;34m,\u001b[0m \u001b[0mheaders\u001b[0m\u001b[0;34m=\u001b[0m\u001b[0mheaders\u001b[0m\u001b[0;34m)\u001b[0m\u001b[0;34m\u001b[0m\u001b[0;34m\u001b[0m\u001b[0m\n\u001b[0m\u001b[1;32m    398\u001b[0m \u001b[0;34m\u001b[0m\u001b[0m\n\u001b[1;32m    399\u001b[0m             \u001b[0mstatuscode\u001b[0m \u001b[0;34m=\u001b[0m \u001b[0mresp\u001b[0m\u001b[0;34m.\u001b[0m\u001b[0mstatus\u001b[0m\u001b[0;34m\u001b[0m\u001b[0;34m\u001b[0m\u001b[0m\n",
      "\u001b[0;32m~/Desktop/Projects/food_dashboard/env/lib/python3.9/site-packages/urllib3/request.py\u001b[0m in \u001b[0;36mrequest\u001b[0;34m(self, method, url, fields, headers, **urlopen_kw)\u001b[0m\n\u001b[1;32m     76\u001b[0m             )\n\u001b[1;32m     77\u001b[0m         \u001b[0;32melse\u001b[0m\u001b[0;34m:\u001b[0m\u001b[0;34m\u001b[0m\u001b[0;34m\u001b[0m\u001b[0m\n\u001b[0;32m---> 78\u001b[0;31m             return self.request_encode_body(\n\u001b[0m\u001b[1;32m     79\u001b[0m                 \u001b[0mmethod\u001b[0m\u001b[0;34m,\u001b[0m \u001b[0murl\u001b[0m\u001b[0;34m,\u001b[0m \u001b[0mfields\u001b[0m\u001b[0;34m=\u001b[0m\u001b[0mfields\u001b[0m\u001b[0;34m,\u001b[0m \u001b[0mheaders\u001b[0m\u001b[0;34m=\u001b[0m\u001b[0mheaders\u001b[0m\u001b[0;34m,\u001b[0m \u001b[0;34m**\u001b[0m\u001b[0murlopen_kw\u001b[0m\u001b[0;34m\u001b[0m\u001b[0;34m\u001b[0m\u001b[0m\n\u001b[1;32m     80\u001b[0m             )\n",
      "\u001b[0;32m~/Desktop/Projects/food_dashboard/env/lib/python3.9/site-packages/urllib3/request.py\u001b[0m in \u001b[0;36mrequest_encode_body\u001b[0;34m(self, method, url, fields, headers, encode_multipart, multipart_boundary, **urlopen_kw)\u001b[0m\n\u001b[1;32m    168\u001b[0m         \u001b[0mextra_kw\u001b[0m\u001b[0;34m.\u001b[0m\u001b[0mupdate\u001b[0m\u001b[0;34m(\u001b[0m\u001b[0murlopen_kw\u001b[0m\u001b[0;34m)\u001b[0m\u001b[0;34m\u001b[0m\u001b[0;34m\u001b[0m\u001b[0m\n\u001b[1;32m    169\u001b[0m \u001b[0;34m\u001b[0m\u001b[0m\n\u001b[0;32m--> 170\u001b[0;31m         \u001b[0;32mreturn\u001b[0m \u001b[0mself\u001b[0m\u001b[0;34m.\u001b[0m\u001b[0murlopen\u001b[0m\u001b[0;34m(\u001b[0m\u001b[0mmethod\u001b[0m\u001b[0;34m,\u001b[0m \u001b[0murl\u001b[0m\u001b[0;34m,\u001b[0m \u001b[0;34m**\u001b[0m\u001b[0mextra_kw\u001b[0m\u001b[0;34m)\u001b[0m\u001b[0;34m\u001b[0m\u001b[0;34m\u001b[0m\u001b[0m\n\u001b[0m",
      "\u001b[0;32m~/Desktop/Projects/food_dashboard/env/lib/python3.9/site-packages/urllib3/poolmanager.py\u001b[0m in \u001b[0;36murlopen\u001b[0;34m(self, method, url, redirect, **kw)\u001b[0m\n\u001b[1;32m    373\u001b[0m             \u001b[0mresponse\u001b[0m \u001b[0;34m=\u001b[0m \u001b[0mconn\u001b[0m\u001b[0;34m.\u001b[0m\u001b[0murlopen\u001b[0m\u001b[0;34m(\u001b[0m\u001b[0mmethod\u001b[0m\u001b[0;34m,\u001b[0m \u001b[0murl\u001b[0m\u001b[0;34m,\u001b[0m \u001b[0;34m**\u001b[0m\u001b[0mkw\u001b[0m\u001b[0;34m)\u001b[0m\u001b[0;34m\u001b[0m\u001b[0;34m\u001b[0m\u001b[0m\n\u001b[1;32m    374\u001b[0m         \u001b[0;32melse\u001b[0m\u001b[0;34m:\u001b[0m\u001b[0;34m\u001b[0m\u001b[0;34m\u001b[0m\u001b[0m\n\u001b[0;32m--> 375\u001b[0;31m             \u001b[0mresponse\u001b[0m \u001b[0;34m=\u001b[0m \u001b[0mconn\u001b[0m\u001b[0;34m.\u001b[0m\u001b[0murlopen\u001b[0m\u001b[0;34m(\u001b[0m\u001b[0mmethod\u001b[0m\u001b[0;34m,\u001b[0m \u001b[0mu\u001b[0m\u001b[0;34m.\u001b[0m\u001b[0mrequest_uri\u001b[0m\u001b[0;34m,\u001b[0m \u001b[0;34m**\u001b[0m\u001b[0mkw\u001b[0m\u001b[0;34m)\u001b[0m\u001b[0;34m\u001b[0m\u001b[0;34m\u001b[0m\u001b[0m\n\u001b[0m\u001b[1;32m    376\u001b[0m \u001b[0;34m\u001b[0m\u001b[0m\n\u001b[1;32m    377\u001b[0m         \u001b[0mredirect_location\u001b[0m \u001b[0;34m=\u001b[0m \u001b[0mredirect\u001b[0m \u001b[0;32mand\u001b[0m \u001b[0mresponse\u001b[0m\u001b[0;34m.\u001b[0m\u001b[0mget_redirect_location\u001b[0m\u001b[0;34m(\u001b[0m\u001b[0;34m)\u001b[0m\u001b[0;34m\u001b[0m\u001b[0;34m\u001b[0m\u001b[0m\n",
      "\u001b[0;32m~/Desktop/Projects/food_dashboard/env/lib/python3.9/site-packages/urllib3/connectionpool.py\u001b[0m in \u001b[0;36murlopen\u001b[0;34m(self, method, url, body, headers, retries, redirect, assert_same_host, timeout, pool_timeout, release_conn, chunked, body_pos, **response_kw)\u001b[0m\n\u001b[1;32m    781\u001b[0m                 \u001b[0;34m\"Retrying (%r) after connection broken by '%r': %s\"\u001b[0m\u001b[0;34m,\u001b[0m \u001b[0mretries\u001b[0m\u001b[0;34m,\u001b[0m \u001b[0merr\u001b[0m\u001b[0;34m,\u001b[0m \u001b[0murl\u001b[0m\u001b[0;34m\u001b[0m\u001b[0;34m\u001b[0m\u001b[0m\n\u001b[1;32m    782\u001b[0m             )\n\u001b[0;32m--> 783\u001b[0;31m             return self.urlopen(\n\u001b[0m\u001b[1;32m    784\u001b[0m                 \u001b[0mmethod\u001b[0m\u001b[0;34m,\u001b[0m\u001b[0;34m\u001b[0m\u001b[0;34m\u001b[0m\u001b[0m\n\u001b[1;32m    785\u001b[0m                 \u001b[0murl\u001b[0m\u001b[0;34m,\u001b[0m\u001b[0;34m\u001b[0m\u001b[0;34m\u001b[0m\u001b[0m\n",
      "\u001b[0;32m~/Desktop/Projects/food_dashboard/env/lib/python3.9/site-packages/urllib3/connectionpool.py\u001b[0m in \u001b[0;36murlopen\u001b[0;34m(self, method, url, body, headers, retries, redirect, assert_same_host, timeout, pool_timeout, release_conn, chunked, body_pos, **response_kw)\u001b[0m\n\u001b[1;32m    781\u001b[0m                 \u001b[0;34m\"Retrying (%r) after connection broken by '%r': %s\"\u001b[0m\u001b[0;34m,\u001b[0m \u001b[0mretries\u001b[0m\u001b[0;34m,\u001b[0m \u001b[0merr\u001b[0m\u001b[0;34m,\u001b[0m \u001b[0murl\u001b[0m\u001b[0;34m\u001b[0m\u001b[0;34m\u001b[0m\u001b[0m\n\u001b[1;32m    782\u001b[0m             )\n\u001b[0;32m--> 783\u001b[0;31m             return self.urlopen(\n\u001b[0m\u001b[1;32m    784\u001b[0m                 \u001b[0mmethod\u001b[0m\u001b[0;34m,\u001b[0m\u001b[0;34m\u001b[0m\u001b[0;34m\u001b[0m\u001b[0m\n\u001b[1;32m    785\u001b[0m                 \u001b[0murl\u001b[0m\u001b[0;34m,\u001b[0m\u001b[0;34m\u001b[0m\u001b[0;34m\u001b[0m\u001b[0m\n",
      "\u001b[0;32m~/Desktop/Projects/food_dashboard/env/lib/python3.9/site-packages/urllib3/connectionpool.py\u001b[0m in \u001b[0;36murlopen\u001b[0;34m(self, method, url, body, headers, retries, redirect, assert_same_host, timeout, pool_timeout, release_conn, chunked, body_pos, **response_kw)\u001b[0m\n\u001b[1;32m    781\u001b[0m                 \u001b[0;34m\"Retrying (%r) after connection broken by '%r': %s\"\u001b[0m\u001b[0;34m,\u001b[0m \u001b[0mretries\u001b[0m\u001b[0;34m,\u001b[0m \u001b[0merr\u001b[0m\u001b[0;34m,\u001b[0m \u001b[0murl\u001b[0m\u001b[0;34m\u001b[0m\u001b[0;34m\u001b[0m\u001b[0m\n\u001b[1;32m    782\u001b[0m             )\n\u001b[0;32m--> 783\u001b[0;31m             return self.urlopen(\n\u001b[0m\u001b[1;32m    784\u001b[0m                 \u001b[0mmethod\u001b[0m\u001b[0;34m,\u001b[0m\u001b[0;34m\u001b[0m\u001b[0;34m\u001b[0m\u001b[0m\n\u001b[1;32m    785\u001b[0m                 \u001b[0murl\u001b[0m\u001b[0;34m,\u001b[0m\u001b[0;34m\u001b[0m\u001b[0;34m\u001b[0m\u001b[0m\n",
      "\u001b[0;32m~/Desktop/Projects/food_dashboard/env/lib/python3.9/site-packages/urllib3/connectionpool.py\u001b[0m in \u001b[0;36murlopen\u001b[0;34m(self, method, url, body, headers, retries, redirect, assert_same_host, timeout, pool_timeout, release_conn, chunked, body_pos, **response_kw)\u001b[0m\n\u001b[1;32m    753\u001b[0m                 \u001b[0me\u001b[0m \u001b[0;34m=\u001b[0m \u001b[0mProtocolError\u001b[0m\u001b[0;34m(\u001b[0m\u001b[0;34m\"Connection aborted.\"\u001b[0m\u001b[0;34m,\u001b[0m \u001b[0me\u001b[0m\u001b[0;34m)\u001b[0m\u001b[0;34m\u001b[0m\u001b[0;34m\u001b[0m\u001b[0m\n\u001b[1;32m    754\u001b[0m \u001b[0;34m\u001b[0m\u001b[0m\n\u001b[0;32m--> 755\u001b[0;31m             retries = retries.increment(\n\u001b[0m\u001b[1;32m    756\u001b[0m                 \u001b[0mmethod\u001b[0m\u001b[0;34m,\u001b[0m \u001b[0murl\u001b[0m\u001b[0;34m,\u001b[0m \u001b[0merror\u001b[0m\u001b[0;34m=\u001b[0m\u001b[0me\u001b[0m\u001b[0;34m,\u001b[0m \u001b[0m_pool\u001b[0m\u001b[0;34m=\u001b[0m\u001b[0mself\u001b[0m\u001b[0;34m,\u001b[0m \u001b[0m_stacktrace\u001b[0m\u001b[0;34m=\u001b[0m\u001b[0msys\u001b[0m\u001b[0;34m.\u001b[0m\u001b[0mexc_info\u001b[0m\u001b[0;34m(\u001b[0m\u001b[0;34m)\u001b[0m\u001b[0;34m[\u001b[0m\u001b[0;36m2\u001b[0m\u001b[0;34m]\u001b[0m\u001b[0;34m\u001b[0m\u001b[0;34m\u001b[0m\u001b[0m\n\u001b[1;32m    757\u001b[0m             )\n",
      "\u001b[0;32m~/Desktop/Projects/food_dashboard/env/lib/python3.9/site-packages/urllib3/util/retry.py\u001b[0m in \u001b[0;36mincrement\u001b[0;34m(self, method, url, response, error, _pool, _stacktrace)\u001b[0m\n\u001b[1;32m    572\u001b[0m \u001b[0;34m\u001b[0m\u001b[0m\n\u001b[1;32m    573\u001b[0m         \u001b[0;32mif\u001b[0m \u001b[0mnew_retry\u001b[0m\u001b[0;34m.\u001b[0m\u001b[0mis_exhausted\u001b[0m\u001b[0;34m(\u001b[0m\u001b[0;34m)\u001b[0m\u001b[0;34m:\u001b[0m\u001b[0;34m\u001b[0m\u001b[0;34m\u001b[0m\u001b[0m\n\u001b[0;32m--> 574\u001b[0;31m             \u001b[0;32mraise\u001b[0m \u001b[0mMaxRetryError\u001b[0m\u001b[0;34m(\u001b[0m\u001b[0m_pool\u001b[0m\u001b[0;34m,\u001b[0m \u001b[0murl\u001b[0m\u001b[0;34m,\u001b[0m \u001b[0merror\u001b[0m \u001b[0;32mor\u001b[0m \u001b[0mResponseError\u001b[0m\u001b[0;34m(\u001b[0m\u001b[0mcause\u001b[0m\u001b[0;34m)\u001b[0m\u001b[0;34m)\u001b[0m\u001b[0;34m\u001b[0m\u001b[0;34m\u001b[0m\u001b[0m\n\u001b[0m\u001b[1;32m    575\u001b[0m \u001b[0;34m\u001b[0m\u001b[0m\n\u001b[1;32m    576\u001b[0m         \u001b[0mlog\u001b[0m\u001b[0;34m.\u001b[0m\u001b[0mdebug\u001b[0m\u001b[0;34m(\u001b[0m\u001b[0;34m\"Incremented Retry for (url='%s'): %r\"\u001b[0m\u001b[0;34m,\u001b[0m \u001b[0murl\u001b[0m\u001b[0;34m,\u001b[0m \u001b[0mnew_retry\u001b[0m\u001b[0;34m)\u001b[0m\u001b[0;34m\u001b[0m\u001b[0;34m\u001b[0m\u001b[0m\n",
      "\u001b[0;31mMaxRetryError\u001b[0m: HTTPConnectionPool(host='127.0.0.1', port=52686): Max retries exceeded with url: /session/bf205a5418005dcb001be5c06079e22d/url (Caused by NewConnectionError('<urllib3.connection.HTTPConnection object at 0x111eda550>: Failed to establish a new connection: [Errno 61] Connection refused'))"
     ]
    }
   ],
   "metadata": {
    "tags": []
   }
  },
  {
   "cell_type": "markdown",
   "source": [
    "## Don't close the chromedrive because session id will get expired without you close it\n",
    "## Run the code below to check that you collected all the posts (must be same with the total number of post)"
   ],
   "metadata": {}
  },
  {
   "cell_type": "code",
   "execution_count": 48,
   "source": [
    "len(posts)"
   ],
   "outputs": [
    {
     "output_type": "execute_result",
     "data": {
      "text/plain": [
       "720"
      ]
     },
     "metadata": {},
     "execution_count": 48
    }
   ],
   "metadata": {}
  },
  {
   "cell_type": "markdown",
   "source": [
    "## Divide the posts in case it gets error so you won't start over again"
   ],
   "metadata": {}
  },
  {
   "cell_type": "code",
   "execution_count": 49,
   "source": [
    "posts1 = posts[:100]\n",
    "posts2 = posts[100:200]\n",
    "posts3 = posts[200:300]\n",
    "posts4 = posts[300:400]\n",
    "posts5 = posts[400:500]\n",
    "posts6 = posts[500:600]\n",
    "posts7 = posts[600:700]\n",
    "posts8 = posts[700:800]\n",
    "posts9 = posts[800:900]\n",
    "posts10 = posts[900:1000]\n",
    "posts11 = posts[5000:5500]\n",
    "posts12 = posts[5500:6000]\n",
    "posts13 = posts[6000:6500]\n",
    "posts14 = posts[6500:7000]\n",
    "posts15 = posts[7000:7500]\n",
    "posts16 = posts[7500:7578]"
   ],
   "outputs": [],
   "metadata": {}
  },
  {
   "cell_type": "code",
   "execution_count": 36,
   "source": [
    "len(posts10)"
   ],
   "outputs": [
    {
     "output_type": "execute_result",
     "data": {
      "text/plain": [
       "100"
      ]
     },
     "metadata": {},
     "execution_count": 36
    }
   ],
   "metadata": {}
  },
  {
   "cell_type": "markdown",
   "source": [
    "## Run to scrape posts, adjust with the total number of posts"
   ],
   "metadata": {}
  },
  {
   "cell_type": "code",
   "execution_count": 50,
   "source": [
    "try:\n",
    "    scraped_posts_1, unscraped_posts_1 = scrape_posts(posts1, headers=headers, pause=10, silent=False)\n",
    "except:\n",
    "    pass"
   ],
   "outputs": [
    {
     "output_type": "stream",
     "name": "stdout",
     "text": [
      "0: CSWXo6Wh8-f - 2021-08-09 18:00:25\n",
      "1: CSRDuIxs9mr - 2021-08-07 16:30:10\n",
      "2: CSJR-pDtM7c - 2021-08-04 16:00:50\n",
      "3: CR_aNLaNs1u - 2021-07-31 20:00:19\n",
      "4: CR_MiK5tjuz - 2021-07-31 18:00:51\n",
      "5: CR8g4cesQ6N - 2021-07-30 17:00:56\n",
      "6: CR8MR8hL_d9 - 2021-07-30 14:00:55\n",
      "7: CR6Xc0JFgWr - 2021-07-29 21:00:02\n",
      "8: CR6C5PEHu6y - 2021-07-29 18:00:25\n",
      "9: CR3eF64hpSO - 2021-07-28 18:00:21\n",
      "10: CR3CqRdsJki - 2021-07-28 14:00:39\n",
      "11: CR1Uz1dBD3y - 2021-07-27 22:00:45\n",
      "12: CR1N4WAlajL - 2021-07-27 21:00:12\n",
      "13: CRyU4eSMnp4 - 2021-07-26 18:03:40\n",
      "14: CRx5AcPll6Z - 2021-07-26 14:00:05\n",
      "15: CRv9aORrPKA - 2021-07-25 20:00:05\n",
      "16: CRvvvQKLEad - 2021-07-25 18:00:37\n",
      "17: CRtK-Q6rgcj - 2021-07-24 18:00:53\n",
      "18: CRqlzKJplje - 2021-07-23 17:57:34\n",
      "19: CRqKsJMFurI - 2021-07-23 14:00:41\n",
      "20: CRoPFnujugy - 2021-07-22 20:00:38\n",
      "21: CRlnxT6NA8u - 2021-07-21 19:38:35\n",
      "22: CRklpvEDN2S - 2021-07-21 10:00:50\n",
      "23: CRjFbkAnxnc - 2021-07-20 20:00:03\n",
      "24: CRip_oIFcTu - 2021-07-20 16:00:18\n",
      "25: CRgZ3b6n95O - 2021-07-19 19:00:53\n",
      "26: CRgGR6asf08 - 2021-07-19 16:09:44\n",
      "27: CRduNlCnpA1 - 2021-07-18 18:00:57\n",
      "28: CRdSv5gFOdt - 2021-07-18 14:00:58\n",
      "29: CRbd9UXrftz - 2021-07-17 21:00:27\n",
      "30: CRbJYzADhHO - 2021-07-17 18:00:42\n",
      "31: CRYknkMFi4Q - 2021-07-16 18:00:55\n",
      "32: CRYJHdAN5MF - 2021-07-16 14:00:36\n",
      "33: CRV_xt1n2bt - 2021-07-15 18:00:31\n",
      "34: CRVkUJxrxAC - 2021-07-15 14:00:33\n",
      "35: CRTa9_3Hu3e - 2021-07-14 18:00:24\n",
      "36: CRS_jC1Befq - 2021-07-14 14:00:47\n",
      "37: CRRK03FsjEL - 2021-07-13 21:00:51\n",
      "38: CRQohXQrVHK - 2021-07-13 16:01:06\n",
      "39: CRORbXZrrOm - 2021-07-12 18:00:49\n",
      "40: CRN81ONBO40 - 2021-07-12 15:00:51\n",
      "41: CRMIGHANYhq - 2021-07-11 22:00:48\n",
      "42: CRLzbzBsybC - 2021-07-11 19:00:15\n",
      "43: CRJcZGwH_He - 2021-07-10 21:00:26\n",
      "44: CRJHzB2ljUS - 2021-07-10 18:00:28\n",
      "45: CRGVTfwswwd - 2021-07-09 16:00:47\n",
      "46: CRGHif_tyQG - 2021-07-09 14:00:29\n",
      "47: CRES3PaL4bt - 2021-07-08 21:00:58\n",
      "48: CRD-QJdpAw_ - 2021-07-08 18:00:52\n",
      "49: CRBZZeVLS-w - 2021-07-07 18:00:20\n",
      "50: CRA965SnzmY - 2021-07-07 14:00:14\n",
      "51: CQ_JQe4lO-l - 2021-07-06 21:00:49\n",
      "52: CQ-jgaSnXMB - 2021-07-06 15:30:57\n",
      "53: CQ8P2fIAkKJ - 2021-07-05 18:00:43\n",
      "54: CQ8D1x_hzwx - 2021-07-05 16:15:46\n",
      "55: CQ5_puXn57H - 2021-07-04 21:00:41\n",
      "56: CQ5q-ponIiL - 2021-07-04 18:00:02\n",
      "57: CQ3UA33hnin - 2021-07-03 20:00:53\n",
      "58: CQ3GOOQB09t - 2021-07-03 18:00:23\n",
      "59: CQ02EwLBh2n - 2021-07-02 21:00:47\n",
      "60: CQ0M0SbtvUt - 2021-07-02 15:00:17\n",
      "61: CQx8pPVAlBJ - 2021-07-01 18:00:29\n",
      "62: CQxhK29jFlx - 2021-07-01 14:00:24\n",
      "63: CQvsa4XrgyP - 2021-06-30 21:00:14\n",
      "64: CQvDOpiDmn4 - 2021-06-30 15:00:18\n"
     ]
    }
   ],
   "metadata": {
    "tags": []
   }
  },
  {
   "cell_type": "code",
   "execution_count": null,
   "source": [
    "posts2"
   ],
   "outputs": [],
   "metadata": {
    "jupyter": {
     "outputs_hidden": true
    },
    "tags": []
   }
  },
  {
   "cell_type": "code",
   "execution_count": 51,
   "source": [
    "try:\n",
    "    scraped_posts_2, unscraped_posts_2 = scrape_posts(posts2, headers=headers, pause=10, silent=False)\n",
    "except:\n",
    "    pass"
   ],
   "outputs": [
    {
     "output_type": "stream",
     "name": "stdout",
     "text": [
      "0: CP-PEBalD3C - 2021-06-11 16:00:55\n",
      "1: CP7e5UEgKo_ - 2021-06-10 14:21:33\n",
      "2: CP5nytlsJHn - 2021-06-09 21:00:48\n",
      "3: CP4-mjgDqMx - 2021-06-09 15:00:53\n",
      "4: CP2uYVSFsna - 2021-06-08 18:00:39\n",
      "5: CP2MBspMSk3 - 2021-06-08 13:00:28\n",
      "6: CP0Qd2pL2vz - 2021-06-07 19:00:47\n",
      "7: CP0CwMFLHlU - 2021-06-07 17:00:57\n",
      "8: CPx5XOahHhE - 2021-06-06 21:00:25\n",
      "9: CPwt05ksWBp - 2021-06-06 10:00:22\n",
      "10: CPuaMlBJU9g - 2021-06-05 12:30:21\n",
      "11: CPsiGprJbvM - 2021-06-04 19:00:58\n",
      "12: CPsNZr3DR3v - 2021-06-04 16:00:04\n",
      "13: CPpvnI3MNa3 - 2021-06-03 17:01:17\n",
      "14: CPpa70aJX4M - 2021-06-03 14:00:36\n",
      "15: CPnmMK8Buzu - 2021-06-02 21:00:28\n",
      "16: CPm9ENjMcNF - 2021-06-02 15:01:07\n",
      "17: CPkRYuphPmq - 2021-06-01 14:00:58\n",
      "18: CPiH9h_hsnF - 2021-05-31 18:00:08\n",
      "19: CPhzZi9hwtG - 2021-05-31 15:00:27\n",
      "20: CPf32KWBEFL - 2021-05-30 21:00:50\n",
      "21: CPduefPB6pa - 2021-05-30 01:00:28\n",
      "22: CPdIuBNBPED - 2021-05-29 19:30:33\n",
      "23: CPcwu8rBjMd - 2021-05-29 16:00:57\n",
      "24: CPauRXkheVd - 2021-05-28 21:00:58\n",
      "25: CPaZqDChpXH - 2021-05-28 18:00:50\n",
      "26: CPXt-N0hqyM - 2021-05-27 17:00:37\n",
      "27: CPXSf1NhThh - 2021-05-27 13:00:33\n",
      "28: CPU0lvkhAjn - 2021-05-26 14:00:44\n",
      "29: CPUf8F_BXOW - 2021-05-26 11:00:17\n",
      "30: CPSrL1hBddQ - 2021-05-25 18:00:04\n",
      "31: CPSPylwhaMI - 2021-05-25 14:00:41\n",
      "32: CPQGYm_hKG3 - 2021-05-24 18:00:01\n",
      "33: CPPx1OEhKE_ - 2021-05-24 15:00:25\n",
      "34: CPN2MMVhhni - 2021-05-23 21:00:02\n",
      "35: CPMqwRAhNPa - 2021-05-23 10:00:52\n",
      "36: CPKvGpIBMGc - 2021-05-22 16:00:23\n",
      "37: CPKajs7hOks - 2021-05-22 13:00:51\n",
      "38: CPIsrq4hzq8 - 2021-05-21 21:00:45\n",
      "39: CPIYE4GhCMa - 2021-05-21 18:00:41\n",
      "40: CPFsb5CBZHS - 2021-05-20 17:00:52\n",
      "41: CPFQ33kBj1O - 2021-05-20 13:00:01\n",
      "42: CPDEL07hjQ_ - 2021-05-19 16:30:40\n",
      "43: CPCvi5qBh5u - 2021-05-19 13:30:19\n",
      "44: CPAptirBbFx - 2021-05-18 18:00:52\n",
      "45: CPAb8x1BMlD - 2021-05-18 16:00:37\n",
      "46: CO-E7tGhcij - 2021-05-17 18:01:00\n",
      "47: CO9zuGEhU0p - 2021-05-17 15:30:36\n",
      "48: CO70q3DBEVw - 2021-05-16 21:00:25\n",
      "49: CO6pGNxhiow - 2021-05-16 10:00:03\n",
      "50: CO4mrVyh2RR - 2021-05-15 15:00:25\n",
      "51: CO4SIsEBZX5 - 2021-05-15 12:00:56\n",
      "52: CO2rFDjBpxK - 2021-05-14 21:00:24\n",
      "53: CO2PmTtBMbr - 2021-05-14 17:00:17\n",
      "54: COzxtA4BmzT - 2021-05-13 18:00:34\n",
      "55: COzPWFuBSdW - 2021-05-13 13:00:21\n",
      "56: COw4T-uhkMX - 2021-05-12 15:00:36\n",
      "57: COwc1z1B-lx - 2021-05-12 11:00:33\n",
      "58: COuoH6IBOZT - 2021-05-11 18:00:39\n",
      "59: COuMp4Ch-kh - 2021-05-11 14:00:38\n",
      "60: COsDVKOhz5V - 2021-05-10 18:00:40\n",
      "61: COruq8BhqVs - 2021-05-10 15:00:09\n",
      "62: COpzD9cBmjd - 2021-05-09 21:00:02\n",
      "63: COo8JNrhyY3 - 2021-05-09 13:00:09\n",
      "64: COmy2VRhQkC - 2021-05-08 17:00:27\n",
      "65: COmeQS-BLxn - 2021-05-08 14:00:30\n",
      "66: COkpgTBhi6a - 2021-05-07 21:00:19\n",
      "67: COjryaJB97A - 2021-05-07 12:01:02\n",
      "68: COiEutwhR1P - 2021-05-06 21:00:30\n",
      "69: COhwKmgBbDh - 2021-05-06 18:00:48\n",
      "70: COff9cEBX3I - 2021-05-05 21:00:43\n",
      "71: COe9l7OBprH - 2021-05-05 16:00:24\n",
      "72: COcmfYthUsf - 2021-05-04 18:00:03\n",
      "73: COcR6mohmjT - 2021-05-04 15:00:16\n",
      "74: COaBvDzhuhx - 2021-05-03 18:00:24\n",
      "75: COZpt-ghDBf - 2021-05-03 14:30:32\n",
      "76: COXxjFbhy_H - 2021-05-02 21:00:29\n",
      "77: COWmEmyh5By - 2021-05-02 10:00:57\n",
      "78: COU4LuhBtSO - 2021-05-01 18:00:44\n",
      "79: COUcwKgBod- - 2021-05-01 14:01:03\n",
      "80: COSn_aPhP_B - 2021-04-30 21:00:46\n",
      "81: COR-t6_BRom - 2021-04-30 15:00:07\n",
      "82: COPukEfhpyk - 2021-04-29 18:00:28\n",
      "83: COPTGGFBLuQ - 2021-04-29 14:00:27\n",
      "84: COMuWe2hZYD - 2021-04-28 14:00:54\n",
      "85: COMZw19B7NJ - 2021-04-28 11:01:00\n",
      "86: COK5ibIhHcw - 2021-04-27 21:00:10\n",
      "87: COKQV4mB9zr - 2021-04-27 15:00:11\n",
      "88: COIANjrhDm8 - 2021-04-26 18:00:46\n",
      "89: COHrmqOhOww - 2021-04-26 15:00:41\n",
      "90: COFwCc7hWsw - 2021-04-25 21:00:57\n",
      "91: COEkeGLhtuo - 2021-04-25 10:00:38\n",
      "92: COC2pmdBYOa - 2021-04-24 18:01:00\n",
      "93: COCNblzhcx4 - 2021-04-24 12:00:50\n",
      "94: COAfi3qB9p6 - 2021-04-23 20:00:38\n",
      "95: COAArgmB6oB - 2021-04-23 15:30:56\n",
      "96: CN9YZGdhZ0H - 2021-04-22 15:00:24\n",
      "97: CN9AVdzBzLb - 2021-04-22 11:30:12\n",
      "98: CN7c0SxhKmn - 2021-04-21 21:00:36\n",
      "99: CN7IM2gBuL7 - 2021-04-21 18:00:27\n"
     ]
    }
   ],
   "metadata": {
    "tags": []
   }
  },
  {
   "cell_type": "code",
   "execution_count": 52,
   "source": [
    "try:\n",
    "    scraped_posts_3, unscraped_posts_3 = scrape_posts(posts3, headers=headers, pause=10, silent=False)\n",
    "except:\n",
    "    pass"
   ],
   "outputs": [
    {
     "output_type": "stream",
     "name": "stdout",
     "text": [
      "0: CN4jasurM03 - 2021-04-20 18:00:33\n",
      "1: CN4H-HkFbF1 - 2021-04-20 14:00:43\n",
      "2: CN1-mYiFYYB - 2021-04-19 18:00:21\n",
      "3: CN1tddCML0v - 2021-04-19 15:30:35\n",
      "4: CNzubq-hv4M - 2021-04-18 21:00:36\n",
      "5: CNw1EDTB9bQ - 2021-04-17 18:00:49\n",
      "6: CNwnSDLhUA5 - 2021-04-17 16:00:23\n",
      "7: CNukzIIhCuY - 2021-04-16 21:00:13\n",
      "8: CNt0u1mhYoo - 2021-04-16 14:00:12\n",
      "9: CNrrcFnh5qN - 2021-04-15 18:00:31\n",
      "10: CNrQAldhJq6 - 2021-04-15 14:00:50\n",
      "11: CNorLERh37t - 2021-04-14 14:00:28\n",
      "12: CNoWj1-hUdm - 2021-04-14 11:00:21\n",
      "13: CNm2bG7L7T8 - 2021-04-13 21:00:18\n",
      "14: CNmNQBhhnLy - 2021-04-13 15:00:31\n",
      "15: CNj9BY6Bj57 - 2021-04-12 18:00:14\n",
      "16: CNjvRqDBgyb - 2021-04-12 16:00:07\n",
      "17: CNhs4c4hRcO - 2021-04-11 21:00:43\n",
      "18: CNghTFRBO5u - 2021-04-11 10:00:15\n",
      "19: CNezbcShxNg - 2021-04-10 18:00:12\n",
      "20: CNelyhSBE99 - 2021-04-10 16:01:01\n",
      "21: CNcjSJJBWRr - 2021-04-09 21:00:38\n",
      "22: CNb6EBvhboh - 2021-04-09 15:00:27\n",
      "23: CNZp7ErBORT - 2021-04-08 18:00:56\n",
      "24: CNZOY4NhjNH - 2021-04-08 14:00:20\n",
      "25: CNWpmOehWWj - 2021-04-07 14:00:22\n",
      "26: CNWVA_PBKlB - 2021-04-07 11:00:31\n",
      "27: CNU06YCBa3g - 2021-04-06 21:00:45\n",
      "28: CNULuVIBu_W - 2021-04-06 15:00:51\n",
      "29: CNSCYhmBbOr - 2021-04-05 19:00:45\n",
      "30: CNRtuLgh5Vb - 2021-04-05 16:00:12\n",
      "31: CNPrRl4Bbaf - 2021-04-04 21:00:21\n",
      "32: CNOft7aBtGK - 2021-04-04 10:00:07\n"
     ]
    }
   ],
   "metadata": {
    "tags": []
   }
  },
  {
   "cell_type": "code",
   "execution_count": 53,
   "source": [
    "try:\n",
    "    scraped_posts_4, unscraped_posts_4 = scrape_posts(posts4, headers=headers, pause=10, silent=False)\n",
    "except:\n",
    "    pass"
   ],
   "outputs": [
    {
     "output_type": "stream",
     "name": "stdout",
     "text": [
      "0: CL0eyJGlntq - 2021-02-28 11:00:18\n",
      "1: CLyOlJXlBmk - 2021-02-27 14:00:14\n",
      "2: CLyA55Ulq7M - 2021-02-27 12:00:44\n",
      "3: CLwFQvDLerT - 2021-02-26 18:00:20\n",
      "4: CLvpxfwH80_ - 2021-02-26 14:00:08\n",
      "5: CLt1GCqFRrq - 2021-02-25 21:00:34\n",
      "6: CLtgdsGFx4Y - 2021-02-25 18:00:18\n",
      "7: CLrQRhGg-EB - 2021-02-24 21:00:21\n",
      "8: CLqgNKQL5oe - 2021-02-24 14:00:19\n",
      "9: CLoCTSlFQI0 - 2021-02-23 15:00:32\n",
      "10: CLnm4cNr-Lk - 2021-02-23 11:00:56\n",
      "11: CLl_zmfBcUL - 2021-02-22 20:00:15\n",
      "12: CLlWoqGrYZI - 2021-02-22 14:00:30\n",
      "13: CLjNTRClWxJ - 2021-02-21 18:00:27\n",
      "14: CLikHUpsRC2 - 2021-02-21 12:00:33\n",
      "15: CLg9KkbMuYH - 2021-02-20 21:00:58\n",
      "16: CLgogOgLWwd - 2021-02-20 18:00:26\n",
      "17: CLd83VhlXcy - 2021-02-19 17:00:37\n",
      "18: CLdTrYlju_- - 2021-02-19 11:00:44\n",
      "19: CLbDgA7FEBC - 2021-02-18 14:00:53\n",
      "20: CLau1T2Lwin - 2021-02-18 11:00:17\n",
      "21: CLZOrokLRXM - 2021-02-17 21:00:07\n",
      "22: CLYQ-sGLiOg - 2021-02-17 12:00:57\n",
      "23: CLWp4gVFQyz - 2021-02-16 21:00:04\n",
      "24: CLWHoBrlDQM - 2021-02-16 16:00:44\n",
      "25: CLUFJ0wnjSA - 2021-02-15 21:00:39\n",
      "26: CLTi2V5ln61 - 2021-02-15 16:00:53\n",
      "27: CLQwQz8l3-e - 2021-02-14 14:00:23\n",
      "28: CLQU25QH5hK - 2021-02-14 10:00:55\n",
      "29: CLO0qd4nocM - 2021-02-13 20:00:21\n",
      "30: CLN9xVtLbdA - 2021-02-13 12:00:42\n",
      "31: CLLmrL9Ls5R - 2021-02-12 14:00:24\n",
      "32: CLLLQGFlIoQ - 2021-02-12 10:00:51\n",
      "33: CLJrI0onutG - 2021-02-11 20:00:55\n",
      "34: CLJB3F5LF6B - 2021-02-11 14:00:14\n",
      "35: CLGdGggncNw - 2021-02-10 14:00:33\n",
      "36: CLGPUTyF-v1 - 2021-02-10 12:00:40\n",
      "37: CLEGDB5LbBI - 2021-02-09 16:00:37\n",
      "38: CLBhQZorfR3 - 2021-02-08 16:00:39\n",
      "39: CLA4EHYlS6y - 2021-02-08 10:00:42\n",
      "40: CK_lsRhr-sQ - 2021-02-07 22:00:55\n",
      "41: CK_X5YMl278 - 2021-02-07 20:00:23\n",
      "42: CK8Xsk3H5ta - 2021-02-06 16:00:54\n",
      "43: CK78IjEFvYt - 2021-02-06 12:00:03\n",
      "44: CK5y03SFHJM - 2021-02-05 16:00:15\n",
      "45: CK5XbjDl8tb - 2021-02-05 12:00:52\n",
      "46: CK3AT_bjUJ9 - 2021-02-04 14:00:22\n",
      "47: CK2rwxjlkDQ - 2021-02-04 11:00:48\n",
      "48: CK0pOlKp9J0 - 2021-02-03 16:00:10\n",
      "49: CK0N2RDLUvu - 2021-02-03 12:00:55\n",
      "50: CKyEcM6nhpQ - 2021-02-02 16:00:14\n",
      "51: CKxiG1tLT8h - 2021-02-02 11:00:14\n",
      "52: CKvtc5blQ6f - 2021-02-01 18:00:53\n",
      "53: CKvEKZel2fT - 2021-02-01 12:00:05\n",
      "54: CKtdNcRFK1J - 2021-01-31 21:00:29\n",
      "55: CKstGR6M4lZ - 2021-01-31 14:00:04\n",
      "56: CKqquruskxC - 2021-01-30 19:00:53\n",
      "57: CKqBe8Gl5Xe - 2021-01-30 13:00:29\n",
      "58: CKn_E--gF69 - 2021-01-29 18:00:58\n",
      "59: CKnV19VFtGi - 2021-01-29 12:00:40\n",
      "60: CKl1v7flhEN - 2021-01-28 22:00:59\n",
      "61: CKlMfRAsVj- - 2021-01-28 16:00:26\n",
      "62: CKjKCJOrtSv - 2021-01-27 21:00:30\n",
      "63: CKi1cVyhBr_ - 2021-01-27 18:00:35\n",
      "64: CKgeW2mFzpd - 2021-01-26 20:00:22\n",
      "65: CKfne5hF5sB - 2021-01-26 12:00:52\n",
      "66: CKdrzItFjjv - 2021-01-25 18:00:06\n",
      "67: CKdCpt5jb4v - 2021-01-25 12:00:33\n",
      "68: CKbbq1GrrZg - 2021-01-24 21:00:41\n",
      "69: CKarmUhlpMk - 2021-01-24 14:00:38\n",
      "70: CKYpIwXDY5m - 2021-01-23 19:00:39\n",
      "71: CKX_35RlnH8 - 2021-01-23 13:00:05\n",
      "72: CKV9cOCFHsB - 2021-01-22 18:00:20\n",
      "73: CKVURxilWwO - 2021-01-22 12:00:39\n",
      "74: CKT0HXJr8a5 - 2021-01-21 22:00:22\n",
      "75: CKTK4VpB35T - 2021-01-21 16:00:03\n",
      "76: CKQ6trfjv5V - 2021-01-20 19:00:18\n",
      "77: CKQKsS1lrsM - 2021-01-20 12:00:41\n",
      "78: CKOcyLghxAk - 2021-01-19 20:00:18\n",
      "79: CKNl2xUhQ3T - 2021-01-19 12:00:20\n",
      "80: CKLqRjLLhbH - 2021-01-18 18:00:27\n",
      "81: CKLBIWDFprt - 2021-01-18 12:00:56\n",
      "82: CKJaCesr376 - 2021-01-17 21:00:06\n",
      "83: CKIqHLqBRif - 2021-01-17 14:01:19\n",
      "84: CKGnr3AgKFU - 2021-01-16 19:01:38\n",
      "85: CKF-aSLg75L - 2021-01-16 13:00:58\n",
      "86: CKD765RF6g4 - 2021-01-15 18:00:43\n",
      "87: CKDSs_HD8DE - 2021-01-15 12:00:34\n",
      "88: CKByjgTrmao - 2021-01-14 22:00:24\n",
      "89: CKBJWN7H6go - 2021-01-14 16:00:20\n",
      "90: CJ-5KrrMZb5 - 2021-01-13 19:00:28\n",
      "91: CJ-JJw8lslo - 2021-01-13 12:00:54\n",
      "92: CJ8bQGVrHbz - 2021-01-12 20:00:35\n",
      "93: CJ7kTNqFz5g - 2021-01-12 12:00:24\n",
      "94: CJ5ov2_lkS0 - 2021-01-11 18:00:47\n",
      "95: CJ4_jFblwR4 - 2021-01-11 12:00:47\n",
      "96: CJ3RrCJl9GF - 2021-01-10 20:00:40\n",
      "97: CJ2obinLwfh - 2021-01-10 14:00:17\n",
      "98: CJ0l-l8B9nd - 2021-01-09 19:00:23\n",
      "99: CJz8vtanBei - 2021-01-09 13:00:05\n"
     ]
    }
   ],
   "metadata": {
    "tags": []
   }
  },
  {
   "cell_type": "code",
   "execution_count": 54,
   "source": [
    "try:\n",
    "    scraped_posts_5, unscraped_posts_5 = scrape_posts(posts5, headers=headers, pause=10, silent=False)\n",
    "except:\n",
    "    pass"
   ],
   "outputs": [
    {
     "output_type": "stream",
     "name": "stdout",
     "text": [
      "0: CJx6S6lLCya - 2021-01-08 18:00:12\n",
      "1: CJxRKB3DspN - 2021-01-08 12:00:43\n",
      "2: CJv8whKJd7y - 2021-01-07 23:43:14\n",
      "3: CJvH1danxnj - 2021-01-07 16:00:47\n",
      "4: CJs3ju7HlBP - 2021-01-06 19:00:05\n",
      "5: CJsHlgYnIR5 - 2021-01-06 12:00:53\n",
      "6: CJqZpykjeQF - 2021-01-05 20:00:17\n",
      "7: CJpiu_wAur8 - 2021-01-05 12:00:23\n",
      "8: CJnnJvDMTya - 2021-01-04 18:00:31\n",
      "9: CJm9_oRslML - 2021-01-04 12:00:52\n",
      "10: CJlW_CZpxw3 - 2021-01-03 21:00:46\n",
      "11: CJkm7lBAv1M - 2021-01-03 14:00:52\n",
      "12: CJikbMPAO1J - 2021-01-02 19:00:29\n",
      "13: CJh7RgjjYas - 2021-01-02 13:00:54\n",
      "14: CJf4xlEhu-a - 2021-01-01 18:00:35\n",
      "15: CJfPkanj9RY - 2021-01-01 12:00:31\n",
      "16: CJdolMPgqUU - 2020-12-31 21:00:36\n",
      "17: CJcqyBih7Gv - 2020-12-31 12:00:35\n",
      "18: CJa2BPhjK3h - 2020-12-30 19:00:18\n",
      "19: CJaGBz2gmmc - 2020-12-30 12:00:57\n",
      "20: CJYl0IAn9Pr - 2020-12-29 22:00:13\n",
      "21: CJX8shUADDq - 2020-12-29 16:00:55\n",
      "22: CJVlnyepxCs - 2020-12-28 18:00:49\n",
      "23: CJU8VkGn9vF - 2020-12-28 12:00:04\n",
      "24: CJTVYzyn6Ii - 2020-12-27 21:00:28\n",
      "25: CJSlSs5nb_s - 2020-12-27 14:00:13\n",
      "26: CJQi1b-jn6- - 2020-12-26 19:00:15\n",
      "27: CJP5ovtDpOw - 2020-12-26 13:00:16\n",
      "28: CJN3MBOBXi- - 2020-12-25 18:00:23\n",
      "29: CJNHHaIncVC - 2020-12-25 11:00:19\n",
      "30: CJLt4WZnZDR - 2020-12-24 22:00:34\n",
      "31: CJKpMD3hYu6 - 2020-12-24 12:00:20\n",
      "32: CJI0dOSAX0K - 2020-12-23 19:00:19\n",
      "33: CJIEZqbg_vu - 2020-12-23 12:00:24\n",
      "34: CJGWkQPDALN - 2020-12-22 20:00:39\n",
      "35: CJFflixBRT2 - 2020-12-22 12:00:14\n",
      "36: CJDkC6fFnhM - 2020-12-21 18:00:43\n",
      "37: CJC60L9gGdl - 2020-12-21 12:00:26\n",
      "38: CJBT0lIlCS2 - 2020-12-20 21:00:28\n",
      "39: CJAjuuLDIk5 - 2020-12-20 14:00:14\n",
      "40: CI-hSUmF8Ef - 2020-12-19 19:00:24\n",
      "41: CI94IyCArUe - 2020-12-19 13:00:50\n",
      "42: CI71qYaHofL - 2020-12-18 18:00:43\n",
      "43: CI7MYa5ByAe - 2020-12-18 12:00:00\n",
      "44: CI5sUZ7pHZ7 - 2020-12-17 22:00:36\n",
      "45: CI4np5egrkp - 2020-12-17 12:00:36\n",
      "46: CI2sEZPnTa1 - 2020-12-16 18:00:41\n",
      "47: CI2CaRijwNA - 2020-12-16 11:56:40\n",
      "48: CI0U78hFrjQ - 2020-12-15 20:00:05\n",
      "49: CIzeANSDzlT - 2020-12-15 12:00:04\n",
      "50: CIxieL5nvdH - 2020-12-14 18:00:38\n",
      "51: CIw5SrtLuqe - 2020-12-14 12:00:48\n",
      "52: CIvLZbAH9p9 - 2020-12-13 20:00:31\n",
      "53: CIuiMunFp2U - 2020-12-13 14:00:31\n",
      "54: CIr2hnXhi6y - 2020-12-12 13:00:25\n",
      "55: CIp0HNAAr4H - 2020-12-11 18:00:51\n",
      "56: CIpK1JvpQN9 - 2020-12-11 12:00:07\n",
      "57: CInqxe9pzlu - 2020-12-10 22:00:46\n",
      "58: CInBhbaMxEj - 2020-12-10 16:00:18\n",
      "59: CIkPDOOn43M - 2020-12-09 14:00:48\n",
      "60: CIiaQMTpCki - 2020-12-08 21:00:12\n",
      "61: CIhcb3VntbW - 2020-12-08 12:00:02\n",
      "62: CIfg3tVjaYC - 2020-12-07 18:00:18\n",
      "63: CIe3qiHAU7T - 2020-12-07 12:00:15\n",
      "64: CIdQq6_HAbF - 2020-12-06 21:00:16\n",
      "65: CIcS4LRJgf7 - 2020-12-06 12:00:19\n",
      "66: CIaeIxfAOxS - 2020-12-05 19:00:13\n",
      "67: CIZ0-w_MFZ2 - 2020-12-05 13:00:35\n",
      "68: CIXyesBBRF8 - 2020-12-04 18:00:15\n",
      "69: CIXDiI2h-bD - 2020-12-04 11:10:02\n",
      "70: CIVpM-OhM9E - 2020-12-03 22:00:42\n",
      "71: CIU_7O3j8Vy - 2020-12-03 16:00:01\n",
      "72: CIUyTH_j1Ba - 2020-12-03 14:00:57\n",
      "73: CISo53Gj_rR - 2020-12-02 18:00:23\n",
      "74: CIR_wFSM_En - 2020-12-02 12:00:47\n",
      "75: CIQR25iBNI9 - 2020-12-01 20:00:31\n",
      "76: CIPa4__FNZt - 2020-12-01 12:00:12\n",
      "77: CINfWFhAe0t - 2020-11-30 18:00:39\n",
      "78: CIM2JizFNdi - 2020-11-30 12:00:40\n",
      "79: CILPL4xpqDU - 2020-11-29 21:00:58\n",
      "80: CILPFh9pckl - 2020-11-29 21:00:06\n",
      "81: CIKfDYvhzaV - 2020-11-29 14:00:22\n",
      "82: CIIcp93Jq5a - 2020-11-28 19:00:57\n",
      "83: CIHzYllB2oR - 2020-11-28 13:00:18\n",
      "84: CIFw8OvnUK6 - 2020-11-27 18:00:29\n",
      "85: CIFA6MgliFo - 2020-11-27 11:00:46\n",
      "86: CIC-aBaBThN - 2020-11-26 16:00:43\n",
      "87: CIAuLqIjjQu - 2020-11-25 19:00:10\n",
      "88: CH_-JjZByXI - 2020-11-25 12:00:27\n",
      "89: CH-QVN9DuKT - 2020-11-24 20:00:51\n",
      "90: CH9ZUjFFoaf - 2020-11-24 12:00:10\n",
      "91: CH7kqINIrxT - 2020-11-23 19:00:45\n",
      "92: CH60njmHOXR - 2020-11-23 12:00:58\n",
      "93: CH5NoREIPnC - 2020-11-22 21:01:02\n",
      "94: CH4dh3nnPoZ - 2020-11-22 14:00:44\n",
      "95: CH2bEF5FXt2 - 2020-11-21 19:00:42\n",
      "96: CH1q_UQp7vI - 2020-11-21 12:00:37\n",
      "97: CHzvbIqlu6f - 2020-11-20 18:00:54\n",
      "98: CHy_V-hgFmg - 2020-11-20 11:00:45\n",
      "99: CHw8z4zHaHq - 2020-11-19 16:00:09\n"
     ]
    }
   ],
   "metadata": {
    "tags": []
   }
  },
  {
   "cell_type": "code",
   "execution_count": 55,
   "source": [
    "try:\n",
    "    scraped_posts_6, unscraped_posts_6 = scrape_posts(posts6, headers=headers, pause=10, silent=False)\n",
    "except:\n",
    "    pass"
   ],
   "outputs": [
    {
     "output_type": "stream",
     "name": "stdout",
     "text": [
      "0: CHusteyF6GY - 2020-11-18 19:00:59\n",
      "1: CHt8zd6nY-m - 2020-11-18 12:02:22\n",
      "2: CHsVn7nlvZr - 2020-11-17 21:00:46\n",
      "3: CHrliqDh7qn - 2020-11-17 14:00:37\n",
      "4: CHpcPoIgqJg - 2020-11-16 18:00:53\n",
      "5: CHoy_HuDGvw - 2020-11-16 12:00:22\n",
      "6: CHnMB1ejMU4 - 2020-11-15 21:00:43\n",
      "7: CHmb6TJJVqG - 2020-11-15 14:00:15\n",
      "8: CHkZfPPlbLf - 2020-11-14 19:00:36\n",
      "9: CHjpYSSnX7I - 2020-11-14 12:00:14\n",
      "10: CHht3XGsPVr - 2020-11-13 18:00:56\n",
      "11: CHg9s_bhKnF - 2020-11-13 11:00:06\n",
      "12: CHe7SUcFuA4 - 2020-11-12 16:00:30\n",
      "13: CHckRv5n7_m - 2020-11-11 18:00:58\n",
      "14: CHb1b04n_Jk - 2020-11-11 11:11:39\n",
      "15: CHaUEs-h83Y - 2020-11-10 21:00:53\n",
      "16: CHZW4hAgD7g - 2020-11-10 12:06:12\n",
      "17: CHXamOJg8E2 - 2020-11-09 18:00:10\n",
      "18: CHWxcwRh468 - 2020-11-09 12:00:37\n",
      "19: CHVKfVUBJBc - 2020-11-08 21:00:56\n"
     ]
    }
   ],
   "metadata": {}
  },
  {
   "cell_type": "code",
   "execution_count": 56,
   "source": [
    "try:\n",
    "    scraped_posts_7, unscraped_posts_7 = scrape_posts(posts7, headers=headers, pause=10, silent=False)\n",
    "except:\n",
    "    pass"
   ],
   "outputs": [
    {
     "output_type": "stream",
     "name": "stdout",
     "text": [
      "0: CFpBAxOBFCv - 2020-09-27 21:00:09\n",
      "1: CFoQ8QjBF-d - 2020-09-27 14:00:06\n"
     ]
    }
   ],
   "metadata": {}
  },
  {
   "cell_type": "code",
   "execution_count": 57,
   "source": [
    "try:\n",
    "    scraped_posts_8, unscraped_posts_8 = scrape_posts(posts8, headers=headers, pause=10, silent=False)\n",
    "except:\n",
    "    pass"
   ],
   "outputs": [
    {
     "output_type": "stream",
     "name": "stdout",
     "text": [
      "0: CDkoXOfFOsr - 2020-08-07 11:05:14\n",
      "1: CDjOlYVjYcB - 2020-08-06 22:00:30\n",
      "2: CDilttgAfXg - 2020-08-06 16:03:23\n",
      "3: CDgOXsgJB03 - 2020-08-05 18:00:55\n",
      "4: CDf0mqiJp7q - 2020-08-05 14:15:46\n",
      "5: CDd-VQghC3q - 2020-08-04 21:02:18\n",
      "6: CDdb16hDZ0O - 2020-08-04 16:00:55\n",
      "7: CDbEw2hB_YQ - 2020-08-03 18:00:46\n",
      "8: CDabkEdBcCZ - 2020-08-03 12:00:46\n",
      "9: CDYtsqOhXD7 - 2020-08-02 20:00:44\n",
      "10: CDYEhibBX8v - 2020-08-02 14:01:12\n",
      "11: CDWCCdMhTgW - 2020-08-01 19:00:45\n",
      "12: CDVftW2hF53 - 2020-08-01 14:00:47\n",
      "13: CDTWTSSqZy2 - 2020-07-31 18:00:23\n",
      "14: CDStNCYhs7K - 2020-07-31 12:00:59\n",
      "15: CDQ_PPVqx1L - 2020-07-30 20:00:05\n",
      "16: CDQjxWfq96f - 2020-07-30 16:00:22\n",
      "17: CDOM086Kyrj - 2020-07-29 18:01:06\n",
      "18: CDNjhLqqRZj - 2020-07-29 12:00:09\n",
      "19: CDL1pxjK7X6 - 2020-07-28 20:00:07\n"
     ]
    }
   ],
   "metadata": {}
  },
  {
   "cell_type": "code",
   "execution_count": 58,
   "source": [
    "try:\n",
    "    scraped_posts_9, unscraped_posts_9 = scrape_posts(posts9, headers=headers, pause=10, silent=False)\n",
    "except:\n",
    "    pass"
   ],
   "outputs": [],
   "metadata": {}
  },
  {
   "cell_type": "code",
   "execution_count": 59,
   "source": [
    "try:\n",
    "    scraped_posts_10, unscraped_posts_10 = scrape_posts(posts10, headers=headers, pause=10, silent=False)\n",
    "except:\n",
    "    pass"
   ],
   "outputs": [],
   "metadata": {}
  },
  {
   "cell_type": "markdown",
   "source": [
    "## Combine all of the successful scraped posts, then run 4 codes below"
   ],
   "metadata": {}
  },
  {
   "cell_type": "code",
   "execution_count": 63,
   "source": [
    "scraped_posts = scraped_posts_1 + scraped_posts_2 + scraped_posts_3 + scraped_posts_4 + scraped_posts_5  "
   ],
   "outputs": [],
   "metadata": {}
  },
  {
   "cell_type": "markdown",
   "source": [
    "## Change \"scraped_date.append(...\" line for meal of the day/ treding over time"
   ],
   "metadata": {}
  },
  {
   "cell_type": "code",
   "execution_count": 64,
   "source": [
    "import pandas as pd\n",
    "import datetime\n",
    "import math\n",
    "scraped_text = []\n",
    "number_of_likes = []\n",
    "number_of_comments = []\n",
    "scraped_date = []\n",
    "scraped_location = []\n",
    "video_views = []\n",
    "count=0\n",
    "for post in scraped_posts:\n",
    "    if int(post.upload_date.date().strftime(\"%Y\")) >= 2019:\n",
    "        # Use the following line to specify date for trending over time\n",
    "        scraped_date.append(post.upload_date.date().strftime(\"%Y-%m-%d %H:%M:%S\"))\n",
    "        \n",
    "        # Use the following line to specify hour for meal of the day\n",
    "#         scraped_date.append(post.upload_date.hour)\n",
    "    else:\n",
    "        continue\n",
    "#     json_dict_comments = post.json_dict['graphql']['shortcode_media']['edge_media_to_parent_comment']['edges']\n",
    "    text = \"\"\n",
    "    try:\n",
    "        text += post.caption + \",\"\n",
    "    except:\n",
    "        text += \"\"\n",
    "#     for node in json_dict_comments:\n",
    "#         text += node['node']['text'] + \",\"\n",
    "    scraped_text.append(text)\n",
    "    if post.likes == None:\n",
    "        number_of_likes.append(0)\n",
    "    else:\n",
    "        number_of_likes.append(post.likes)\n",
    "    if post.comments == None:\n",
    "        number_of_comments.append(0)\n",
    "    else:\n",
    "        number_of_comments.append(post.comments)\n",
    "    scraped_location.append(post.location)\n",
    "    if math.isnan(post.video_view_count):\n",
    "        video_views.append(0)\n",
    "    else:\n",
    "        video_views.append(post.video_view_count)"
   ],
   "outputs": [],
   "metadata": {}
  },
  {
   "cell_type": "code",
   "execution_count": 65,
   "source": [
    "df1 = pd.DataFrame(scraped_text, columns=['text'])\n",
    "df2 = pd.DataFrame(video_views, columns=['NumberViews'])\n",
    "df4 = pd.DataFrame(number_of_likes, columns=['NumberLikes'])\n",
    "df5 = pd.DataFrame(number_of_comments, columns=['NumberComments'])\n",
    "df6 = pd.DataFrame(scraped_date, columns=['hour'])\n",
    "df = pd.concat([df6, df1, df4, df5, df2], axis=1, sort=False)\n",
    "print(df)"
   ],
   "outputs": [
    {
     "output_type": "stream",
     "name": "stdout",
     "text": [
      "                    hour                                               text  \\\n",
      "0    2021-08-09 00:00:00  Popular in Singapore's hawker centres, this Ho...   \n",
      "1    2021-08-07 00:00:00  Add a twist to the classic Biryani with fresh,...   \n",
      "2    2021-08-04 00:00:00  It's Watermelon day! Celebrate this day with a...   \n",
      "3    2021-07-31 00:00:00  Leave it to our community cook Dennis Policarp...   \n",
      "4    2021-07-31 00:00:00  This Laksa Shirataki Fried Noodles is a keto-f...   \n",
      "..                   ...                                                ...   \n",
      "495  2020-11-21 00:00:00  Fancy yourself a shellfish-lover? Well, leave ...   \n",
      "496  2020-11-21 00:00:00  Ditch the Caesar salad for this Kerabu Nangka,...   \n",
      "497  2020-11-20 00:00:00  Take a bite out of this Braised Lion’s Head fo...   \n",
      "498  2020-11-20 00:00:00  This Indian Chicken Masala is a dish you’ll en...   \n",
      "499  2020-11-19 00:00:00  ‘Delicate’ ‘delicious’ and ‘fluffy’ are just s...   \n",
      "\n",
      "     NumberLikes  NumberComments  NumberViews  \n",
      "0            414               6            0  \n",
      "1            276               1            0  \n",
      "2            243               0            0  \n",
      "3            245               7            0  \n",
      "4            277               1            0  \n",
      "..           ...             ...          ...  \n",
      "495          434               2            0  \n",
      "496          307               0            0  \n",
      "497          329               0            0  \n",
      "498          432               4            0  \n",
      "499          311               0            0  \n",
      "\n",
      "[500 rows x 5 columns]\n"
     ]
    }
   ],
   "metadata": {}
  },
  {
   "cell_type": "markdown",
   "source": [
    "## Name the JSON file"
   ],
   "metadata": {}
  },
  {
   "cell_type": "code",
   "execution_count": 66,
   "source": [
    "name_of_file = 'instagram_new' # change to recipe/meal for Recipe/Meal of the Day\n",
    "df.to_json(f'{name_of_file}.json', orient='records')"
   ],
   "outputs": [],
   "metadata": {}
  },
  {
   "cell_type": "markdown",
   "source": [
    "##"
   ],
   "metadata": {}
  },
  {
   "cell_type": "code",
   "execution_count": 10,
   "source": [
    "import pandas as pd\n",
    "\n",
    "df = pd.read_json('instagram_new.json')"
   ],
   "outputs": [
    {
     "output_type": "execute_result",
     "data": {
      "text/plain": [
       "        date                                               text  NumberLikes  \\\n",
       "0 2021-08-09  Popular in Singapore's hawker centres, this Ho...          414   \n",
       "1 2021-08-07  Add a twist to the classic Biryani with fresh,...          276   \n",
       "2 2021-08-04  It's Watermelon day! Celebrate this day with a...          243   \n",
       "3 2021-07-31  Leave it to our community cook Dennis Policarp...          245   \n",
       "4 2021-07-31  This Laksa Shirataki Fried Noodles is a keto-f...          277   \n",
       "\n",
       "   NumberComments  NumberViews  \n",
       "0               6            0  \n",
       "1               1            0  \n",
       "2               0            0  \n",
       "3               7            0  \n",
       "4               1            0  "
      ],
      "text/html": [
       "<div>\n",
       "<style scoped>\n",
       "    .dataframe tbody tr th:only-of-type {\n",
       "        vertical-align: middle;\n",
       "    }\n",
       "\n",
       "    .dataframe tbody tr th {\n",
       "        vertical-align: top;\n",
       "    }\n",
       "\n",
       "    .dataframe thead th {\n",
       "        text-align: right;\n",
       "    }\n",
       "</style>\n",
       "<table border=\"1\" class=\"dataframe\">\n",
       "  <thead>\n",
       "    <tr style=\"text-align: right;\">\n",
       "      <th></th>\n",
       "      <th>date</th>\n",
       "      <th>text</th>\n",
       "      <th>NumberLikes</th>\n",
       "      <th>NumberComments</th>\n",
       "      <th>NumberViews</th>\n",
       "    </tr>\n",
       "  </thead>\n",
       "  <tbody>\n",
       "    <tr>\n",
       "      <th>0</th>\n",
       "      <td>2021-08-09</td>\n",
       "      <td>Popular in Singapore's hawker centres, this Ho...</td>\n",
       "      <td>414</td>\n",
       "      <td>6</td>\n",
       "      <td>0</td>\n",
       "    </tr>\n",
       "    <tr>\n",
       "      <th>1</th>\n",
       "      <td>2021-08-07</td>\n",
       "      <td>Add a twist to the classic Biryani with fresh,...</td>\n",
       "      <td>276</td>\n",
       "      <td>1</td>\n",
       "      <td>0</td>\n",
       "    </tr>\n",
       "    <tr>\n",
       "      <th>2</th>\n",
       "      <td>2021-08-04</td>\n",
       "      <td>It's Watermelon day! Celebrate this day with a...</td>\n",
       "      <td>243</td>\n",
       "      <td>0</td>\n",
       "      <td>0</td>\n",
       "    </tr>\n",
       "    <tr>\n",
       "      <th>3</th>\n",
       "      <td>2021-07-31</td>\n",
       "      <td>Leave it to our community cook Dennis Policarp...</td>\n",
       "      <td>245</td>\n",
       "      <td>7</td>\n",
       "      <td>0</td>\n",
       "    </tr>\n",
       "    <tr>\n",
       "      <th>4</th>\n",
       "      <td>2021-07-31</td>\n",
       "      <td>This Laksa Shirataki Fried Noodles is a keto-f...</td>\n",
       "      <td>277</td>\n",
       "      <td>1</td>\n",
       "      <td>0</td>\n",
       "    </tr>\n",
       "  </tbody>\n",
       "</table>\n",
       "</div>"
      ]
     },
     "metadata": {},
     "execution_count": 10
    }
   ],
   "metadata": {}
  },
  {
   "cell_type": "code",
   "execution_count": 20,
   "source": [
    "df2=pd.read_csv('instagram.csv')\n",
    "new_df=df.append(df2,ignore_index=True)\n",
    "new_df.shape\n",
    "new_df.to_csv('instagram.csv',index=None)\n",
    "# print(df.shape[0])\n",
    "# df.to_csv (r'instagram_new.csv', index = None)"
   ],
   "outputs": [],
   "metadata": {}
  },
  {
   "cell_type": "code",
   "execution_count": null,
   "source": [],
   "outputs": [],
   "metadata": {}
  }
 ],
 "metadata": {
  "interpreter": {
   "hash": "992e6a4be6c24496a05498d2743d9e7a3b2c4f31ff1d6a1cee47b6997e02877c"
  },
  "kernelspec": {
   "name": "python3",
   "display_name": "Python 3.8.0 64-bit ('food_dashboard_scraping': conda)"
  },
  "language_info": {
   "codemirror_mode": {
    "name": "ipython",
    "version": 3
   },
   "file_extension": ".py",
   "mimetype": "text/x-python",
   "name": "python",
   "nbconvert_exporter": "python",
   "pygments_lexer": "ipython3",
   "version": "3.8.0"
  }
 },
 "nbformat": 4,
 "nbformat_minor": 5
}