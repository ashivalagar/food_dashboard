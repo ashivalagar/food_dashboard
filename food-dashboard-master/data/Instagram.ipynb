{
 "cells": [
  {
   "cell_type": "markdown",
   "id": "2ab416bf",
   "metadata": {},
   "source": [
    "## You need to download chromedriver and an account"
   ]
  },
  {
   "cell_type": "markdown",
   "id": "558a482b",
   "metadata": {},
   "source": [
    "## Don't run all the code at the same time, run these 2 first"
   ]
  },
  {
   "source": [
    "from selenium.webdriver import Chrome\n",
    "from selenium.webdriver.chrome.options import Options\n",
    "from instascrape import Profile, scrape_posts, Post, Hashtag\n",
    "import pickle"
   ],
   "cell_type": "code",
   "metadata": {},
   "execution_count": 14,
   "outputs": [
    {
     "output_type": "error",
     "ename": "ImportError",
     "evalue": "cannot import name 'extract_email'",
     "traceback": [
      "\u001b[0;31m---------------------------------------------------------------------------\u001b[0m",
      "\u001b[0;31mImportError\u001b[0m                               Traceback (most recent call last)",
      "\u001b[0;32m<ipython-input-14-0c236e8f2607>\u001b[0m in \u001b[0;36m<module>\u001b[0;34m\u001b[0m\n\u001b[1;32m      1\u001b[0m \u001b[0;32mfrom\u001b[0m \u001b[0mselenium\u001b[0m\u001b[0;34m.\u001b[0m\u001b[0mwebdriver\u001b[0m \u001b[0;32mimport\u001b[0m \u001b[0mChrome\u001b[0m\u001b[0;34m\u001b[0m\u001b[0;34m\u001b[0m\u001b[0m\n\u001b[1;32m      2\u001b[0m \u001b[0;32mfrom\u001b[0m \u001b[0mselenium\u001b[0m\u001b[0;34m.\u001b[0m\u001b[0mwebdriver\u001b[0m\u001b[0;34m.\u001b[0m\u001b[0mchrome\u001b[0m\u001b[0;34m.\u001b[0m\u001b[0moptions\u001b[0m \u001b[0;32mimport\u001b[0m \u001b[0mOptions\u001b[0m\u001b[0;34m\u001b[0m\u001b[0;34m\u001b[0m\u001b[0m\n\u001b[0;32m----> 3\u001b[0;31m \u001b[0;32mfrom\u001b[0m \u001b[0minstascrape\u001b[0m \u001b[0;32mimport\u001b[0m \u001b[0mProfile\u001b[0m\u001b[0;34m,\u001b[0m \u001b[0mscrape_posts\u001b[0m\u001b[0;34m,\u001b[0m \u001b[0mPost\u001b[0m\u001b[0;34m,\u001b[0m \u001b[0mHashtag\u001b[0m\u001b[0;34m\u001b[0m\u001b[0;34m\u001b[0m\u001b[0m\n\u001b[0m\u001b[1;32m      4\u001b[0m \u001b[0;32mimport\u001b[0m \u001b[0mpickle\u001b[0m\u001b[0;34m\u001b[0m\u001b[0;34m\u001b[0m\u001b[0m\n",
      "\u001b[0;32m~/.local/lib/python3.6/site-packages/instascrape/__init__.py\u001b[0m in \u001b[0;36m<module>\u001b[0;34m\u001b[0m\n\u001b[1;32m      2\u001b[0m \u001b[0;32mfrom\u001b[0m \u001b[0mlxml\u001b[0m \u001b[0;32mimport\u001b[0m \u001b[0metree\u001b[0m\u001b[0;34m\u001b[0m\u001b[0;34m\u001b[0m\u001b[0m\n\u001b[1;32m      3\u001b[0m \u001b[0;32mimport\u001b[0m \u001b[0mast\u001b[0m\u001b[0;34m\u001b[0m\u001b[0;34m\u001b[0m\u001b[0m\n\u001b[0;32m----> 4\u001b[0;31m \u001b[0;32mfrom\u001b[0m \u001b[0mhelpers\u001b[0m \u001b[0;32mimport\u001b[0m \u001b[0mextract_email\u001b[0m\u001b[0;34m\u001b[0m\u001b[0;34m\u001b[0m\u001b[0m\n\u001b[0m\u001b[1;32m      5\u001b[0m \u001b[0;34m\u001b[0m\u001b[0m\n\u001b[1;32m      6\u001b[0m \u001b[0;34m\u001b[0m\u001b[0m\n",
      "\u001b[0;31mImportError\u001b[0m: cannot import name 'extract_email'"
     ]
    }
   ]
  },
  {
   "cell_type": "code",
   "execution_count": 13,
   "metadata": {},
   "outputs": [
    {
     "output_type": "stream",
     "name": "stdout",
     "text": [
      "/usr/lib/python3/dist-packages/secretstorage/dhcrypto.py:15: CryptographyDeprecationWarning: int_from_bytes is deprecated, use int.from_bytes instead\n",
      "  from cryptography.utils import int_from_bytes\n",
      "/usr/lib/python3/dist-packages/secretstorage/util.py:19: CryptographyDeprecationWarning: int_from_bytes is deprecated, use int.from_bytes instead\n",
      "  from cryptography.utils import int_from_bytes\n",
      "Defaulting to user installation because normal site-packages is not writeable\n",
      "Requirement already satisfied: extractemail in /home/sun/.local/lib/python3.6/site-packages (1.0.1)\n",
      "\u001b[33mWARNING: You are using pip version 21.0.1; however, version 21.1.3 is available.\n",
      "You should consider upgrading via the '/usr/bin/python3 -m pip install --upgrade pip' command.\u001b[0m\n"
     ]
    }
   ],
   "source": [
    "! pip3 install extractemail\n"
   ]
  },
  {
   "cell_type": "code",
   "execution_count": 25,
   "id": "aca3e887",
   "metadata": {},
   "outputs": [
    {
     "name": "stdout",
     "output_type": "stream",
     "text": [
      "{'acceptInsecureCerts': False, 'browserName': 'chrome', 'browserVersion': '91.0.4472.77', 'chrome': {'chromedriverVersion': '90.0.4430.24 (4c6d850f087da467d926e8eddb76550aed655991-refs/branch-heads/4430@{#429})', 'userDataDir': 'C:\\\\Users\\\\Dell\\\\AppData\\\\Local\\\\Temp\\\\scoped_dir13880_489360333'}, 'goog:chromeOptions': {'debuggerAddress': 'localhost:53035'}, 'networkConnectionEnabled': False, 'pageLoadStrategy': 'normal', 'platformName': 'windows', 'proxy': {}, 'setWindowRect': True, 'strictFileInteractability': False, 'timeouts': {'implicit': 0, 'pageLoad': 300000, 'script': 30000}, 'unhandledPromptBehavior': 'dismiss and notify', 'webauthn:extension:largeBlob': True, 'webauthn:virtualAuthenticators': True}\n"
     ]
    }
   ],
   "source": [
    "# put the exact location of the chromedriver\n",
    "options = Options()\n",
    "prefs = {\"profile.default_content_setting_values.notifications\" : 2}\n",
    "options.add_experimental_option(\"prefs\",prefs)\n",
    "webdriver = Chrome(\"chromedriver.exe\", options=options)\n",
    "print(webdriver.capabilities)"
   ]
  },
  {
   "cell_type": "markdown",
   "id": "016f2af7",
   "metadata": {},
   "source": [
    "## After those first 2 code, get the session ID"
   ]
  },
  {
   "cell_type": "markdown",
   "id": "ab0736ee",
   "metadata": {},
   "source": [
    "## For more info, visit\n",
    "## https://dev.to/chrisgreening/scraping-every-post-on-an-instagram-profile-with-less-than-10-lines-of-python-1n8b"
   ]
  },
  {
   "cell_type": "code",
   "execution_count": 35,
   "id": "e4260803-f69b-4c9a-9917-e4062e925272",
   "metadata": {
    "jupyter": {
     "source_hidden": true
    },
    "tags": []
   },
   "outputs": [
    {
     "name": "stdout",
     "output_type": "stream",
     "text": [
      "83836\n",
      "['growwithgoogle']\n",
      "10110763\n",
      "None\n"
     ]
    }
   ],
   "source": [
    "# Instantiate the scraper objects \n",
    "profile = Profile('https://www.instagram.com/shuangys_kitchensink/')\n",
    "profile_post = Post('https://www.instagram.com/p/CG0UU3ylXnv/')\n",
    "profile_hashtag = Hashtag('https://www.instagram.com/explore/tags/google/')\n",
    "\n",
    "# Scrape their respective data \n",
    "profile.scrape()\n",
    "profile_post.scrape()\n",
    "profile_hashtag.scrape()\n",
    "\n",
    "print(profile.followers)\n",
    "print(profile_post['hashtags'])\n",
    "print(profile_hashtag.amount_of_posts)\n",
    "print(profile.scrape())"
   ]
  },
  {
   "cell_type": "code",
   "execution_count": 26,
   "id": "ccea2fa5",
   "metadata": {
    "tags": []
   },
   "outputs": [
    {
     "name": "stderr",
     "output_type": "stream",
     "text": [
      "e:\\computer science study year 4\\.sem2\\foodweb\\env\\lib\\site-packages\\instascrape\\core\\_static_scraper.py:134: MissingCookiesWarning: Request header does not contain cookies! It's recommended you pass at least a valid sessionid otherwise Instagram will likely redirect you to their login page.\n",
      "  warnings.warn(\n"
     ]
    }
   ],
   "source": [
    "# Put the session ID here inside the ''\n",
    "SESSIONID = '5651541605%3AeI886RE3K6nsW8%3A20'\n",
    "# headers = {\"user-agent\": \"Mozilla/5.0 (Linux; Android 6.0; Nexus 5 Build/MRA58N) AppleWebKit/537.36 (KHTML, like Gecko) Chrome/90.0.4430.212 Mobile Safari/537.36 Edg/87.0.664.57\",\n",
    "#            \"cookie\": f\"sessionid={SESSIONID};\"}\n",
    "headers = {\"user-agent\": \"Mozilla/5.0 (Linux; Android 6.0; Nexus 5 Build/MRA58N) AppleWebKit/537.36 (KHTML, like Gecko) Chrome/90.0.4430.212 Mobile Safari/537.36 Edg/87.0.664.57\"}\n",
    "# Put the profile name here\n",
    "profile_name = 'asianfoodnetwork'\n",
    "profile = Profile(profile_name)\n",
    "profile.scrape(headers=headers)"
   ]
  },
  {
   "cell_type": "markdown",
   "id": "60669c14",
   "metadata": {},
   "source": [
    "## Run this (one) code below and check it every few minutes in case it gets stuck and you should scroll up a bit to make it scroll again, and repeat the process until it gets scrolled all the way down"
   ]
  },
  {
   "cell_type": "code",
   "execution_count": 27,
   "id": "e9b2ec25",
   "metadata": {
    "tags": []
   },
   "outputs": [],
   "source": [
    "posts = profile.get_posts(webdriver=webdriver, login_first=True, max_failed_scroll=1000, login_pause=10, amount=1000)"
   ]
  },
  {
   "cell_type": "markdown",
   "id": "515eba51",
   "metadata": {},
   "source": [
    "## Don't close the chromedrive because session id will get expired without you close it\n",
    "## Run the code below to check that you collected all the posts (must be same with the total number of post)"
   ]
  },
  {
   "cell_type": "code",
   "execution_count": 28,
   "id": "d202b87d",
   "metadata": {},
   "outputs": [
    {
     "data": {
      "text/plain": [
       "1000"
      ]
     },
     "execution_count": 28,
     "metadata": {},
     "output_type": "execute_result"
    }
   ],
   "source": [
    "len(posts)"
   ]
  },
  {
   "cell_type": "markdown",
   "id": "33b348d7",
   "metadata": {},
   "source": [
    "## Divide the posts in case it gets error so you won't start over again"
   ]
  },
  {
   "cell_type": "code",
   "execution_count": 29,
   "id": "50c55a76",
   "metadata": {},
   "outputs": [],
   "source": [
    "posts1 = posts[:100]\n",
    "posts2 = posts[100:200]\n",
    "posts3 = posts[200:300]\n",
    "posts4 = posts[300:400]\n",
    "posts5 = posts[400:500]\n",
    "posts6 = posts[500:600]\n",
    "posts7 = posts[600:700]\n",
    "posts8 = posts[700:800]\n",
    "posts9 = posts[4000:4500]\n",
    "posts10 = posts[4500:5000]\n",
    "posts11 = posts[5000:5500]\n",
    "posts12 = posts[5500:6000]\n",
    "posts13 = posts[6000:6500]\n",
    "posts14 = posts[6500:7000]\n",
    "posts15 = posts[7000:7500]\n",
    "posts16 = posts[7500:7578]"
   ]
  },
  {
   "cell_type": "code",
   "execution_count": 30,
   "id": "3a36766c-1550-4a50-9147-34c549579c0b",
   "metadata": {},
   "outputs": [
    {
     "data": {
      "text/plain": [
       "100"
      ]
     },
     "execution_count": 30,
     "metadata": {},
     "output_type": "execute_result"
    }
   ],
   "source": [
    "len(posts4)"
   ]
  },
  {
   "cell_type": "markdown",
   "id": "1a2d96fb",
   "metadata": {},
   "source": [
    "## Run to scrape posts, adjust with the total number of posts"
   ]
  },
  {
   "cell_type": "code",
   "execution_count": 31,
   "id": "f6c4faa5",
   "metadata": {
    "tags": []
   },
   "outputs": [
    {
     "name": "stdout",
     "output_type": "stream",
     "text": [
      "0: CP5nytlsJHn - 2021-06-09 21:00:48\n",
      "1: CP4-mjgDqMx - 2021-06-09 15:00:53\n",
      "2: CP2uYVSFsna - 2021-06-08 18:00:39\n",
      "3: CP2MBspMSk3 - 2021-06-08 13:00:28\n",
      "4: CP0Qd2pL2vz - 2021-06-07 19:00:47\n",
      "5: CP0CwMFLHlU - 2021-06-07 17:00:57\n",
      "6: CPx5XOahHhE - 2021-06-06 21:00:25\n",
      "7: CPwt05ksWBp - 2021-06-06 10:00:22\n",
      "8: CPuaMlBJU9g - 2021-06-05 12:30:21\n",
      "9: CPsiGprJbvM - 2021-06-04 19:00:58\n",
      "10: CPsNZr3DR3v - 2021-06-04 16:00:04\n",
      "11: CPpvnI3MNa3 - 2021-06-03 17:01:17\n",
      "12: CPf32KWBEFL - 2021-05-30 21:00:50\n",
      "13: CPduefPB6pa - 2021-05-30 01:00:28\n",
      "14: CPdIuBNBPED - 2021-05-29 19:30:33\n",
      "15: CPcwu8rBjMd - 2021-05-29 16:00:57\n",
      "16: CPauRXkheVd - 2021-05-28 21:00:58\n",
      "17: CPaZqDChpXH - 2021-05-28 18:00:50\n",
      "18: CPXt-N0hqyM - 2021-05-27 17:00:37\n",
      "19: CPXSf1NhThh - 2021-05-27 13:00:33\n",
      "20: CPU0lvkhAjn - 2021-05-26 14:00:44\n",
      "21: CPUf8F_BXOW - 2021-05-26 11:00:17\n",
      "22: CPSrL1hBddQ - 2021-05-25 18:00:04\n",
      "23: CPSPylwhaMI - 2021-05-25 14:00:41\n",
      "24: CPQGYm_hKG3 - 2021-05-24 18:00:01\n",
      "25: CPPx1OEhKE_ - 2021-05-24 15:00:25\n",
      "26: CPN2MMVhhni - 2021-05-23 21:00:02\n",
      "27: CPMqwRAhNPa - 2021-05-23 10:00:52\n",
      "28: CPKvGpIBMGc - 2021-05-22 16:00:23\n",
      "29: CPKajs7hOks - 2021-05-22 13:00:51\n",
      "30: CPIsrq4hzq8 - 2021-05-21 21:00:45\n",
      "31: CPIYE4GhCMa - 2021-05-21 18:00:41\n",
      "32: CPFsb5CBZHS - 2021-05-20 17:00:52\n",
      "33: CPFQ33kBj1O - 2021-05-20 13:00:01\n",
      "34: CPDEL07hjQ_ - 2021-05-19 16:30:40\n",
      "35: CPCvi5qBh5u - 2021-05-19 13:30:19\n",
      "36: CPAptirBbFx - 2021-05-18 18:00:52\n",
      "37: CPAb8x1BMlD - 2021-05-18 16:00:37\n",
      "38: CO-E7tGhcij - 2021-05-17 18:01:00\n",
      "39: CO9zuGEhU0p - 2021-05-17 15:30:36\n",
      "40: CO70q3DBEVw - 2021-05-16 21:00:25\n",
      "41: CO6pGNxhiow - 2021-05-16 10:00:03\n",
      "42: CO4mrVyh2RR - 2021-05-15 15:00:25\n",
      "43: CO4SIsEBZX5 - 2021-05-15 12:00:56\n",
      "44: CO2rFDjBpxK - 2021-05-14 21:00:24\n",
      "45: CO2PmTtBMbr - 2021-05-14 17:00:17\n",
      "46: COzxtA4BmzT - 2021-05-13 18:00:34\n",
      "47: COzPWFuBSdW - 2021-05-13 13:00:21\n",
      "48: COw4T-uhkMX - 2021-05-12 15:00:36\n",
      "49: COwc1z1B-lx - 2021-05-12 11:00:33\n",
      "50: COuoH6IBOZT - 2021-05-11 18:00:39\n",
      "51: COuMp4Ch-kh - 2021-05-11 14:00:38\n",
      "52: COsDVKOhz5V - 2021-05-10 18:00:40\n",
      "53: COruq8BhqVs - 2021-05-10 15:00:09\n",
      "54: COpzD9cBmjd - 2021-05-09 21:00:02\n",
      "55: COo8JNrhyY3 - 2021-05-09 13:00:09\n",
      "56: COmy2VRhQkC - 2021-05-08 17:00:27\n",
      "57: COmeQS-BLxn - 2021-05-08 14:00:30\n",
      "58: COkpgTBhi6a - 2021-05-07 21:00:19\n",
      "59: COjryaJB97A - 2021-05-07 12:01:02\n",
      "60: COiEutwhR1P - 2021-05-06 21:00:30\n",
      "61: COhwKmgBbDh - 2021-05-06 18:00:48\n",
      "62: COff9cEBX3I - 2021-05-05 21:00:43\n",
      "63: COe9l7OBprH - 2021-05-05 16:00:24\n",
      "64: COcmfYthUsf - 2021-05-04 18:00:03\n",
      "65: COcR6mohmjT - 2021-05-04 15:00:16\n",
      "66: COaBvDzhuhx - 2021-05-03 18:00:24\n",
      "67: COZpt-ghDBf - 2021-05-03 14:30:32\n",
      "68: COXxjFbhy_H - 2021-05-02 21:00:29\n",
      "69: COWmEmyh5By - 2021-05-02 10:00:57\n",
      "70: COU4LuhBtSO - 2021-05-01 18:00:44\n",
      "71: COUcwKgBod- - 2021-05-01 14:01:03\n",
      "72: COSn_aPhP_B - 2021-04-30 21:00:46\n",
      "73: COR-t6_BRom - 2021-04-30 15:00:07\n",
      "74: COPukEfhpyk - 2021-04-29 18:00:28\n",
      "75: COPTGGFBLuQ - 2021-04-29 14:00:27\n",
      "76: COMuWe2hZYD - 2021-04-28 14:00:54\n",
      "77: COMZw19B7NJ - 2021-04-28 11:01:00\n",
      "78: COK5ibIhHcw - 2021-04-27 21:00:10\n",
      "79: COKQV4mB9zr - 2021-04-27 15:00:11\n",
      "80: COIANjrhDm8 - 2021-04-26 18:00:46\n",
      "81: COHrmqOhOww - 2021-04-26 15:00:41\n",
      "82: COFwCc7hWsw - 2021-04-25 21:00:57\n",
      "83: COEkeGLhtuo - 2021-04-25 10:00:38\n",
      "84: COC2pmdBYOa - 2021-04-24 18:01:00\n",
      "85: COCNblzhcx4 - 2021-04-24 12:00:50\n",
      "86: COAfi3qB9p6 - 2021-04-23 20:00:38\n",
      "87: COAArgmB6oB - 2021-04-23 15:30:56\n",
      "88: CN9YZGdhZ0H - 2021-04-22 15:00:24\n",
      "89: CN9AVdzBzLb - 2021-04-22 11:30:12\n",
      "90: CN7c0SxhKmn - 2021-04-21 21:00:36\n",
      "91: CN7IM2gBuL7 - 2021-04-21 18:00:27\n",
      "92: CN4jasurM03 - 2021-04-20 18:00:33\n",
      "93: CN4H-HkFbF1 - 2021-04-20 14:00:43\n",
      "94: CN1-mYiFYYB - 2021-04-19 18:00:21\n",
      "95: CN1tddCML0v - 2021-04-19 15:30:35\n",
      "96: CNzubq-hv4M - 2021-04-18 21:00:36\n",
      "97: CNw1EDTB9bQ - 2021-04-17 18:00:49\n",
      "98: CNwnSDLhUA5 - 2021-04-17 16:00:23\n",
      "99: CNukzIIhCuY - 2021-04-16 21:00:13\n"
     ]
    }
   ],
   "source": [
    "scraped_posts_1, unscraped_posts_1 = scrape_posts(posts1, headers=headers, pause=10, silent=False)"
   ]
  },
  {
   "cell_type": "code",
   "execution_count": 78,
   "id": "598326e6-a031-4193-ace0-a52f9710f6fa",
   "metadata": {
    "collapsed": true,
    "jupyter": {
     "outputs_hidden": true
    },
    "tags": []
   },
   "outputs": [
    {
     "data": {
      "text/plain": [
       "[<Post>,\n",
       " <Post>,\n",
       " <Post>,\n",
       " <Post>,\n",
       " <Post>,\n",
       " <Post>,\n",
       " <Post>,\n",
       " <Post>,\n",
       " <Post>,\n",
       " <Post>,\n",
       " <Post>,\n",
       " <Post>,\n",
       " <Post>,\n",
       " <Post>,\n",
       " <Post>,\n",
       " <Post>,\n",
       " <Post>,\n",
       " <Post>,\n",
       " <Post>,\n",
       " <Post>,\n",
       " <Post>,\n",
       " <Post>,\n",
       " <Post>,\n",
       " <Post>,\n",
       " <Post>,\n",
       " <Post>,\n",
       " <Post>,\n",
       " <Post>,\n",
       " <Post>,\n",
       " <Post>,\n",
       " <Post>,\n",
       " <Post>,\n",
       " <Post>,\n",
       " <Post>,\n",
       " <Post>,\n",
       " <Post>,\n",
       " <Post>,\n",
       " <Post>,\n",
       " <Post>,\n",
       " <Post>,\n",
       " <Post>,\n",
       " <Post>,\n",
       " <Post>,\n",
       " <Post>,\n",
       " <Post>,\n",
       " <Post>,\n",
       " <Post>,\n",
       " <Post>,\n",
       " <Post>,\n",
       " <Post>,\n",
       " <Post>,\n",
       " <Post>,\n",
       " <Post>,\n",
       " <Post>,\n",
       " <Post>,\n",
       " <Post>,\n",
       " <Post>,\n",
       " <Post>,\n",
       " <Post>,\n",
       " <Post>,\n",
       " <Post>,\n",
       " <Post>,\n",
       " <Post>,\n",
       " <Post>,\n",
       " <Post>,\n",
       " <Post>,\n",
       " <Post>,\n",
       " <Post>,\n",
       " <Post>,\n",
       " <Post>,\n",
       " <Post>,\n",
       " <Post>,\n",
       " <Post>,\n",
       " <Post>,\n",
       " <Post>,\n",
       " <Post>,\n",
       " <Post>,\n",
       " <Post>,\n",
       " <Post>,\n",
       " <Post>,\n",
       " <Post>,\n",
       " <Post>,\n",
       " <Post>,\n",
       " <Post>,\n",
       " <Post>,\n",
       " <Post>,\n",
       " <Post>,\n",
       " <Post>,\n",
       " <Post>,\n",
       " <Post>,\n",
       " <Post>,\n",
       " <Post>,\n",
       " <Post>,\n",
       " <Post>,\n",
       " <Post>,\n",
       " <Post>,\n",
       " <Post>,\n",
       " <Post>,\n",
       " <Post>,\n",
       " <Post>]"
      ]
     },
     "execution_count": 78,
     "metadata": {},
     "output_type": "execute_result"
    }
   ],
   "source": [
    "posts2"
   ]
  },
  {
   "cell_type": "code",
   "execution_count": 32,
   "id": "8de702ff",
   "metadata": {
    "tags": []
   },
   "outputs": [
    {
     "name": "stdout",
     "output_type": "stream",
     "text": [
      "0: CNt0u1mhYoo - 2021-04-16 14:00:12\n"
     ]
    },
    {
     "ename": "IndexError",
     "evalue": "list index out of range",
     "output_type": "error",
     "traceback": [
      "\u001b[1;31m---------------------------------------------------------------------------\u001b[0m",
      "\u001b[1;31mIndexError\u001b[0m                                Traceback (most recent call last)",
      "\u001b[1;32m<ipython-input-32-610692e592c7>\u001b[0m in \u001b[0;36m<module>\u001b[1;34m\u001b[0m\n\u001b[1;32m----> 1\u001b[1;33m \u001b[0mscraped_posts_2\u001b[0m\u001b[1;33m,\u001b[0m \u001b[0munscraped_posts_2\u001b[0m \u001b[1;33m=\u001b[0m \u001b[0mscrape_posts\u001b[0m\u001b[1;33m(\u001b[0m\u001b[0mposts2\u001b[0m\u001b[1;33m,\u001b[0m \u001b[0mheaders\u001b[0m\u001b[1;33m=\u001b[0m\u001b[0mheaders\u001b[0m\u001b[1;33m,\u001b[0m \u001b[0mpause\u001b[0m\u001b[1;33m=\u001b[0m\u001b[1;36m10\u001b[0m\u001b[1;33m,\u001b[0m \u001b[0msilent\u001b[0m\u001b[1;33m=\u001b[0m\u001b[1;32mFalse\u001b[0m\u001b[1;33m)\u001b[0m\u001b[1;33m\u001b[0m\u001b[1;33m\u001b[0m\u001b[0m\n\u001b[0m",
      "\u001b[1;32me:\\computer science study year 4\\.sem2\\foodweb\\env\\lib\\site-packages\\instascrape\\scrapers\\scrape_tools.py\u001b[0m in \u001b[0;36mscrape_posts\u001b[1;34m(posts, session, webdriver, limit, headers, pause, on_exception, silent, inplace)\u001b[0m\n\u001b[0;32m    177\u001b[0m         \u001b[0mtemporary_post\u001b[0m \u001b[1;33m=\u001b[0m \u001b[0mcopy\u001b[0m\u001b[1;33m.\u001b[0m\u001b[0mdeepcopy\u001b[0m\u001b[1;33m(\u001b[0m\u001b[0mpost\u001b[0m\u001b[1;33m)\u001b[0m\u001b[1;33m\u001b[0m\u001b[1;33m\u001b[0m\u001b[0m\n\u001b[0;32m    178\u001b[0m         \u001b[1;32mtry\u001b[0m\u001b[1;33m:\u001b[0m\u001b[1;33m\u001b[0m\u001b[1;33m\u001b[0m\u001b[0m\n\u001b[1;32m--> 179\u001b[1;33m             \u001b[0mpost\u001b[0m\u001b[1;33m.\u001b[0m\u001b[0mscrape\u001b[0m\u001b[1;33m(\u001b[0m\u001b[0msession\u001b[0m\u001b[1;33m=\u001b[0m\u001b[0msession\u001b[0m\u001b[1;33m,\u001b[0m \u001b[0mwebdriver\u001b[0m\u001b[1;33m=\u001b[0m\u001b[0mwebdriver\u001b[0m\u001b[1;33m,\u001b[0m \u001b[0mheaders\u001b[0m\u001b[1;33m=\u001b[0m\u001b[0mheaders\u001b[0m\u001b[1;33m)\u001b[0m\u001b[1;33m\u001b[0m\u001b[1;33m\u001b[0m\u001b[0m\n\u001b[0m\u001b[0;32m    180\u001b[0m             \u001b[0mscraped_posts\u001b[0m\u001b[1;33m.\u001b[0m\u001b[0mappend\u001b[0m\u001b[1;33m(\u001b[0m\u001b[0mpost\u001b[0m\u001b[1;33m)\u001b[0m\u001b[1;33m\u001b[0m\u001b[1;33m\u001b[0m\u001b[0m\n\u001b[0;32m    181\u001b[0m         \u001b[1;32mexcept\u001b[0m \u001b[0mException\u001b[0m \u001b[1;32mas\u001b[0m \u001b[0me\u001b[0m\u001b[1;33m:\u001b[0m\u001b[1;33m\u001b[0m\u001b[1;33m\u001b[0m\u001b[0m\n",
      "\u001b[1;32me:\\computer science study year 4\\.sem2\\foodweb\\env\\lib\\site-packages\\instascrape\\scrapers\\post.py\u001b[0m in \u001b[0;36mscrape\u001b[1;34m(self, mapping, keys, exclude, headers, inplace, session, webdriver)\u001b[0m\n\u001b[0;32m     71\u001b[0m         \u001b[1;32mif\u001b[0m \u001b[0mhasattr\u001b[0m\u001b[1;33m(\u001b[0m\u001b[0mself\u001b[0m\u001b[1;33m,\u001b[0m \u001b[1;34m\"shortcode\"\u001b[0m\u001b[1;33m)\u001b[0m\u001b[1;33m:\u001b[0m\u001b[1;33m\u001b[0m\u001b[1;33m\u001b[0m\u001b[0m\n\u001b[0;32m     72\u001b[0m             \u001b[0mself\u001b[0m\u001b[1;33m.\u001b[0m\u001b[0msource\u001b[0m \u001b[1;33m=\u001b[0m \u001b[0mself\u001b[0m\u001b[1;33m.\u001b[0m\u001b[0mshortcode\u001b[0m\u001b[1;33m\u001b[0m\u001b[1;33m\u001b[0m\u001b[0m\n\u001b[1;32m---> 73\u001b[1;33m         return_instance = super().scrape(\n\u001b[0m\u001b[0;32m     74\u001b[0m                             \u001b[0mmapping\u001b[0m\u001b[1;33m=\u001b[0m\u001b[0mmapping\u001b[0m\u001b[1;33m,\u001b[0m\u001b[1;33m\u001b[0m\u001b[1;33m\u001b[0m\u001b[0m\n\u001b[0;32m     75\u001b[0m                             \u001b[0mkeys\u001b[0m\u001b[1;33m=\u001b[0m\u001b[0mkeys\u001b[0m\u001b[1;33m,\u001b[0m\u001b[1;33m\u001b[0m\u001b[1;33m\u001b[0m\u001b[0m\n",
      "\u001b[1;32me:\\computer science study year 4\\.sem2\\foodweb\\env\\lib\\site-packages\\instascrape\\core\\_static_scraper.py\u001b[0m in \u001b[0;36mscrape\u001b[1;34m(self, mapping, keys, exclude, headers, inplace, session, webdriver)\u001b[0m\n\u001b[0;32m    142\u001b[0m             \u001b[0mscraped_dict\u001b[0m \u001b[1;33m=\u001b[0m \u001b[0mself\u001b[0m\u001b[1;33m.\u001b[0m\u001b[0msource\u001b[0m\u001b[1;33m.\u001b[0m\u001b[0mto_dict\u001b[0m\u001b[1;33m(\u001b[0m\u001b[1;33m)\u001b[0m\u001b[1;33m\u001b[0m\u001b[1;33m\u001b[0m\u001b[0m\n\u001b[0;32m    143\u001b[0m         \u001b[1;32melse\u001b[0m\u001b[1;33m:\u001b[0m\u001b[1;33m\u001b[0m\u001b[1;33m\u001b[0m\u001b[0m\n\u001b[1;32m--> 144\u001b[1;33m             \u001b[0mreturn_data\u001b[0m \u001b[1;33m=\u001b[0m \u001b[0mself\u001b[0m\u001b[1;33m.\u001b[0m\u001b[0m_get_json_from_source\u001b[0m\u001b[1;33m(\u001b[0m\u001b[0mself\u001b[0m\u001b[1;33m.\u001b[0m\u001b[0msource\u001b[0m\u001b[1;33m,\u001b[0m \u001b[0mheaders\u001b[0m\u001b[1;33m=\u001b[0m\u001b[0mheaders\u001b[0m\u001b[1;33m,\u001b[0m \u001b[0msession\u001b[0m\u001b[1;33m=\u001b[0m\u001b[0msession\u001b[0m\u001b[1;33m)\u001b[0m\u001b[1;33m\u001b[0m\u001b[1;33m\u001b[0m\u001b[0m\n\u001b[0m\u001b[0;32m    145\u001b[0m             \u001b[0mflat_json_dict\u001b[0m \u001b[1;33m=\u001b[0m \u001b[0mflatten_dict\u001b[0m\u001b[1;33m(\u001b[0m\u001b[0mreturn_data\u001b[0m\u001b[1;33m[\u001b[0m\u001b[1;34m\"json_dict\"\u001b[0m\u001b[1;33m]\u001b[0m\u001b[1;33m)\u001b[0m\u001b[1;33m\u001b[0m\u001b[1;33m\u001b[0m\u001b[0m\n\u001b[0;32m    146\u001b[0m \u001b[1;33m\u001b[0m\u001b[0m\n",
      "\u001b[1;32me:\\computer science study year 4\\.sem2\\foodweb\\env\\lib\\site-packages\\instascrape\\core\\_static_scraper.py\u001b[0m in \u001b[0;36m_get_json_from_source\u001b[1;34m(self, source, headers, session)\u001b[0m\n\u001b[0;32m    262\u001b[0m                 \u001b[0mjson_dict\u001b[0m \u001b[1;33m=\u001b[0m \u001b[0mjson_dict_arr\u001b[0m\u001b[1;33m[\u001b[0m\u001b[1;36m0\u001b[0m\u001b[1;33m]\u001b[0m\u001b[1;33m\u001b[0m\u001b[1;33m\u001b[0m\u001b[0m\n\u001b[0;32m    263\u001b[0m             \u001b[1;32melse\u001b[0m\u001b[1;33m:\u001b[0m\u001b[1;33m\u001b[0m\u001b[1;33m\u001b[0m\u001b[0m\n\u001b[1;32m--> 264\u001b[1;33m                 \u001b[0mjson_dict\u001b[0m \u001b[1;33m=\u001b[0m \u001b[0mjson_dict_arr\u001b[0m\u001b[1;33m[\u001b[0m\u001b[1;36m1\u001b[0m\u001b[1;33m]\u001b[0m\u001b[1;33m\u001b[0m\u001b[1;33m\u001b[0m\u001b[0m\n\u001b[0m\u001b[0;32m    265\u001b[0m             \u001b[0mself\u001b[0m\u001b[1;33m.\u001b[0m\u001b[0m_validate_scrape\u001b[0m\u001b[1;33m(\u001b[0m\u001b[0mjson_dict\u001b[0m\u001b[1;33m)\u001b[0m\u001b[1;33m\u001b[0m\u001b[1;33m\u001b[0m\u001b[0m\n\u001b[0;32m    266\u001b[0m \u001b[1;33m\u001b[0m\u001b[0m\n",
      "\u001b[1;31mIndexError\u001b[0m: list index out of range"
     ]
    }
   ],
   "source": [
    "scraped_posts_2, unscraped_posts_2 = scrape_posts(posts2, headers=headers, pause=10, silent=False)"
   ]
  },
  {
   "cell_type": "code",
   "execution_count": null,
   "id": "5caf13fa",
   "metadata": {
    "tags": []
   },
   "outputs": [],
   "source": [
    "scraped_posts_3, unscraped_posts_3 = scrape_posts(posts3, headers=headers, pause=10, silent=False)"
   ]
  },
  {
   "cell_type": "code",
   "execution_count": null,
   "id": "9e736a3d",
   "metadata": {
    "tags": []
   },
   "outputs": [],
   "source": [
    "scraped_posts_4, unscraped_posts_4 = scrape_posts(posts4, headers=headers, pause=10, silent=False)"
   ]
  },
  {
   "cell_type": "code",
   "execution_count": null,
   "id": "6d82b7eb",
   "metadata": {
    "tags": []
   },
   "outputs": [],
   "source": [
    "scraped_posts_5, unscraped_posts_5 = scrape_posts(posts5, headers=headers, pause=10, silent=False)"
   ]
  },
  {
   "cell_type": "code",
   "execution_count": null,
   "id": "1e51ddbe",
   "metadata": {},
   "outputs": [],
   "source": [
    "scraped_posts_6, unscraped_posts_6 = scrape_posts(posts6, headers=headers, pause=10, silent=False)"
   ]
  },
  {
   "cell_type": "code",
   "execution_count": null,
   "id": "0675352d",
   "metadata": {},
   "outputs": [],
   "source": [
    "scraped_posts_7, unscraped_posts_7 = scrape_posts(posts7, headers=headers, pause=10, silent=False)"
   ]
  },
  {
   "cell_type": "code",
   "execution_count": null,
   "id": "25f474e5",
   "metadata": {},
   "outputs": [],
   "source": [
    "scraped_posts_8, unscraped_posts_8 = scrape_posts(posts8, headers=headers, pause=10, silent=False)"
   ]
  },
  {
   "cell_type": "code",
   "execution_count": null,
   "id": "a112381b",
   "metadata": {},
   "outputs": [],
   "source": [
    "scraped_posts_9, unscraped_posts_9 = scrape_posts(posts9, headers=headers, pause=10, silent=False)"
   ]
  },
  {
   "cell_type": "markdown",
   "id": "eea0d4d5",
   "metadata": {},
   "source": [
    "## Combine all of the successful scraped posts, then run 4 codes below"
   ]
  },
  {
   "cell_type": "code",
   "execution_count": 17,
   "id": "d0057b92",
   "metadata": {},
   "outputs": [],
   "source": [
    "scraped_posts = scraped_posts_1 + scraped_posts_2 + scraped_posts_3 + scraped_posts_4 + scraped_posts_5"
   ]
  },
  {
   "cell_type": "markdown",
   "id": "b050abd8-760c-4572-991e-854589215c39",
   "metadata": {},
   "source": [
    "## Change \"scraped_date.append(...\" line for meal of the day/ treding over time"
   ]
  },
  {
   "cell_type": "code",
   "execution_count": 23,
   "id": "eaa62efd",
   "metadata": {},
   "outputs": [],
   "source": [
    "import pandas as pd\n",
    "import datetime\n",
    "import math\n",
    "scraped_text = []\n",
    "number_of_likes = []\n",
    "number_of_comments = []\n",
    "scraped_date = []\n",
    "scraped_location = []\n",
    "video_views = []\n",
    "count=0\n",
    "for post in scraped_posts:\n",
    "    if int(post.upload_date.date().strftime(\"%Y\")) >= 2019:\n",
    "        # Use the following line to specify date for trending over time\n",
    "        scraped_date.append(post.upload_date.date().strftime(\"%Y-%m-%d %H:%M:%S\"))\n",
    "        \n",
    "        # Use the following line to specify hour for meal of the day\n",
    "#         scraped_date.append(post.upload_date.hour)\n",
    "    else:\n",
    "        continue\n",
    "#     json_dict_comments = post.json_dict['graphql']['shortcode_media']['edge_media_to_parent_comment']['edges']\n",
    "    text = \"\"\n",
    "    try:\n",
    "        text += post.caption + \",\"\n",
    "    except:\n",
    "        text += \"\"\n",
    "#     for node in json_dict_comments:\n",
    "#         text += node['node']['text'] + \",\"\n",
    "    scraped_text.append(text)\n",
    "    if post.likes == None:\n",
    "        number_of_likes.append(0)\n",
    "    else:\n",
    "        number_of_likes.append(post.likes)\n",
    "    if post.comments == None:\n",
    "        number_of_comments.append(0)\n",
    "    else:\n",
    "        number_of_comments.append(post.comments)\n",
    "    scraped_location.append(post.location)\n",
    "    if math.isnan(post.video_view_count):\n",
    "        video_views.append(0)\n",
    "    else:\n",
    "        video_views.append(post.video_view_count)"
   ]
  },
  {
   "cell_type": "code",
   "execution_count": 21,
   "id": "6719d8b1",
   "metadata": {},
   "outputs": [],
   "source": [
    "df1 = pd.DataFrame(scraped_text, columns=['text'])\n",
    "df2 = pd.DataFrame(video_views, columns=['NumberViews'])\n",
    "df4 = pd.DataFrame(number_of_likes, columns=['NumberLikes'])\n",
    "df5 = pd.DataFrame(number_of_comments, columns=['NumberComments'])\n",
    "df6 = pd.DataFrame(scraped_date, columns=['hour'])\n",
    "df = pd.concat([df6, df1, df4, df5, df2], axis=1, sort=False)\n",
    "print(df)"
   ]
  },
  {
   "cell_type": "markdown",
   "id": "06be4c10",
   "metadata": {},
   "source": [
    "## Name the JSON file"
   ]
  },
  {
   "cell_type": "code",
   "execution_count": 22,
   "id": "9daf8f61",
   "metadata": {},
   "outputs": [],
   "source": [
    "name_of_file = 'instagram' # change to recipe/meal for Recipe/Meal of the Day\n",
    "df.to_json(f'{name_of_file}.json', orient='records')"
   ]
  },
  {
   "cell_type": "markdown",
   "id": "70bc9bd8",
   "metadata": {},
   "source": [
    "##"
   ]
  },
  {
   "cell_type": "markdown",
   "id": "66a95939",
   "metadata": {},
   "source": [
    "## In case you need to shutdown your pc/laptop and save the progress, you need to save the posts object (unscraped) in pickle\n",
    "## because it's a list of objects, same with the scraped posts with the code below"
   ]
  },
  {
   "cell_type": "code",
   "execution_count": null,
   "id": "87c2f964",
   "metadata": {
    "tags": []
   },
   "outputs": [],
   "source": [
    "import pickle\n",
    "file_name = \"ENTER_FILE_NAME\"\n",
    "file_object = open(file_name, 'wb')\n",
    "pickle.dump(scraped_posts_34, file_object)\n",
    "file_object.close()"
   ]
  },
  {
   "cell_type": "markdown",
   "id": "f7ec851e",
   "metadata": {},
   "source": [
    "## This is to open it back (list of objects)"
   ]
  },
  {
   "cell_type": "code",
   "execution_count": null,
   "id": "d465f302",
   "metadata": {},
   "outputs": [],
   "source": [
    "import pickle\n",
    "open_file = open(\"fundamentally_flawed\\\\fundamentally_flawed_object\", \"rb\")\n",
    "posts = pickle.load(open_file)\n",
    "open_file.close()"
   ]
  }
 ],
 "metadata": {
  "kernelspec": {
   "name": "python3",
   "display_name": "Python 3.6.9 64-bit"
  },
  "language_info": {
   "codemirror_mode": {
    "name": "ipython",
    "version": 3
   },
   "file_extension": ".py",
   "mimetype": "text/x-python",
   "name": "python",
   "nbconvert_exporter": "python",
   "pygments_lexer": "ipython3",
   "version": "3.6.9"
  },
  "interpreter": {
   "hash": "31f2aee4e71d21fbe5cf8b01ff0e069b9275f58929596ceb00d14d90e3e16cd6"
  }
 },
 "nbformat": 4,
 "nbformat_minor": 5
}